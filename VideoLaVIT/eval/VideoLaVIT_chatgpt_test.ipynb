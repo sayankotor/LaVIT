{
 "cells": [
  {
   "cell_type": "markdown",
   "id": "18913888-f401-43c7-89af-b48211b4af4c",
   "metadata": {},
   "source": [
    "## Inference"
   ]
  },
  {
   "cell_type": "code",
   "execution_count": 6,
   "id": "1bbcd376-4efe-43ad-89b4-35173395e98a",
   "metadata": {},
   "outputs": [
    {
     "name": "stderr",
     "output_type": "stream",
     "text": [
      "/home/jovyan/.mlspace/envs/video_vika/lib/python3.10/site-packages/transformers/utils/generic.py:311: FutureWarning: `torch.utils._pytree._register_pytree_node` is deprecated. Please use `torch.utils._pytree.register_pytree_node` instead.\n",
      "  torch.utils._pytree._register_pytree_node(\n",
      "/home/jovyan/.mlspace/envs/video_vika/lib/python3.10/site-packages/transformers/utils/generic.py:311: FutureWarning: `torch.utils._pytree._register_pytree_node` is deprecated. Please use `torch.utils._pytree.register_pytree_node` instead.\n",
      "  torch.utils._pytree._register_pytree_node(\n",
      "WARNING[XFORMERS]: xFormers can't load C++/CUDA extensions. xFormers was built for:\n",
      "    PyTorch 2.0.0+cu118 with CUDA 1108 (you have 2.5.1+cu124)\n",
      "    Python  3.10.11 (you have 3.10.15)\n",
      "  Please reinstall xformers (see https://github.com/facebookresearch/xformers#installing-xformers)\n",
      "  Memory-efficient attention, SwiGLU, sparse and more won't be available.\n",
      "  Set XFORMERS_MORE_DETAILS=1 for more details\n",
      "/home/jovyan/.mlspace/envs/video_vika/lib/python3.10/site-packages/xformers/triton/softmax.py:30: FutureWarning: `torch.cuda.amp.custom_fwd(args...)` is deprecated. Please use `torch.amp.custom_fwd(args..., device_type='cuda')` instead.\n",
      "  @custom_fwd(cast_inputs=torch.float16 if _triton_softmax_fp16_enabled else None)\n",
      "/home/jovyan/.mlspace/envs/video_vika/lib/python3.10/site-packages/xformers/triton/softmax.py:87: FutureWarning: `torch.cuda.amp.custom_bwd(args...)` is deprecated. Please use `torch.amp.custom_bwd(args..., device_type='cuda')` instead.\n",
      "  def backward(\n",
      "/home/jovyan/.mlspace/envs/video_vika/lib/python3.10/site-packages/xformers/ops/swiglu_op.py:107: FutureWarning: `torch.cuda.amp.custom_fwd(args...)` is deprecated. Please use `torch.amp.custom_fwd(args..., device_type='cuda')` instead.\n",
      "  def forward(cls, ctx, x, w1, b1, w2, b2, w3, b3):\n",
      "/home/jovyan/.mlspace/envs/video_vika/lib/python3.10/site-packages/xformers/ops/swiglu_op.py:128: FutureWarning: `torch.cuda.amp.custom_bwd(args...)` is deprecated. Please use `torch.amp.custom_bwd(args..., device_type='cuda')` instead.\n",
      "  def backward(cls, ctx, dx5):\n"
     ]
    },
    {
     "name": "stdout",
     "output_type": "stream",
     "text": [
      "Please 'pip install apex'\n",
      "Please 'pip install apex'\n",
      "Please 'pip install apex'\n",
      "Please 'pip install apex'\n"
     ]
    },
    {
     "name": "stderr",
     "output_type": "stream",
     "text": [
      "/home/jovyan/.mlspace/envs/video_vika/lib/python3.10/site-packages/diffusers/utils/outputs.py:63: FutureWarning: `torch.utils._pytree._register_pytree_node` is deprecated. Please use `torch.utils._pytree.register_pytree_node` instead.\n",
      "  torch.utils._pytree._register_pytree_node(\n",
      "/home/jovyan/.mlspace/envs/video_vika/lib/python3.10/site-packages/transformers/utils/generic.py:311: FutureWarning: `torch.utils._pytree._register_pytree_node` is deprecated. Please use `torch.utils._pytree.register_pytree_node` instead.\n",
      "  torch.utils._pytree._register_pytree_node(\n"
     ]
    }
   ],
   "source": [
    "import os\n",
    "import sys\n",
    "module_path = os.path.abspath(os.path.join('..'))\n",
    "if module_path not in sys.path:\n",
    "    sys.path.append(module_path)\n",
    "from models import build_model"
   ]
  },
  {
   "cell_type": "code",
   "execution_count": 2,
   "id": "8fb4fa9d-7223-4ffe-82f0-5d6c56df34f4",
   "metadata": {},
   "outputs": [
    {
     "name": "stdout",
     "output_type": "stream",
     "text": [
      "Loading Video LaVIT Model Weight from /home/jovyan/shares/SR004.nfs2/chekalina/LaVIT/VideoLaVIT/models/language_model_sft, model precision: bf16\n",
      "Not used {}\n"
     ]
    },
    {
     "data": {
      "application/vnd.jupyter.widget-view+json": {
       "model_id": "8b3c65c82e054d6cac9ddfd83f24b9ee",
       "version_major": 2,
       "version_minor": 0
      },
      "text/plain": [
       "Loading checkpoint shards:   0%|          | 0/4 [00:00<?, ?it/s]"
      ]
     },
     "metadata": {},
     "output_type": "display_data"
    },
    {
     "name": "stderr",
     "output_type": "stream",
     "text": [
      "Some weights of the model checkpoint at /home/jovyan/shares/SR004.nfs2/chekalina/LaVIT/VideoLaVIT/models/language_model_sft were not used when initializing VideoLaVITLlamaForCausalLM: ['model.motion_tokenizer.quantize.embedding.cluster_size', 'model.motion_tokenizer.quantize.embedding.initted', 'model.motion_tokenizer.quantize.cluster_size', 'model.motion_tokenizer.quantize.embedding.embed_avg']\n",
      "- This IS expected if you are initializing VideoLaVITLlamaForCausalLM from the checkpoint of a model trained on another task or with another architecture (e.g. initializing a BertForSequenceClassification model from a BertForPreTraining model).\n",
      "- This IS NOT expected if you are initializing VideoLaVITLlamaForCausalLM from the checkpoint of a model that you expect to be exactly identical (initializing a BertForSequenceClassification model from a BertForSequenceClassification model).\n"
     ]
    },
    {
     "name": "stdout",
     "output_type": "stream",
     "text": [
      "The Visual Vocab Size is 16384\n",
      "The llama tokenizer vocab size is 32000\n",
      "The maximal clip number is 16\n"
     ]
    }
   ],
   "source": [
    "import os\n",
    "import sys\n",
    "import torch\n",
    "import numpy as np\n",
    "import random\n",
    "module_path = os.path.abspath(os.path.join('..'))\n",
    "if module_path not in sys.path:\n",
    "    sys.path.append(module_path)\n",
    "from models import build_model\n",
    "\n",
    "model_path = \"/home/jovyan/shares/SR004.nfs2/chekalina/LaVIT/VideoLaVIT/models/language_model_sft\"#\"/home/jinyang06/models/VideoLaVIT-v1/language_model_sft\"\n",
    "model_dtype='bf16'\n",
    "\n",
    "max_video_clips = 16\n",
    "device_id = 0\n",
    "torch.cuda.set_device(device_id)\n",
    "device = torch.device('cuda')\n",
    "\n",
    "seed = 42\n",
    "#torch.manual_seed(seed)\n",
    "np.random.seed(seed)\n",
    "random.seed(seed)\n",
    "\n",
    "# For Multi-Modal Understanding\n",
    "runner = build_model(model_path=model_path, model_dtype=model_dtype, understanding=True, \n",
    "        device_id=device_id, use_xformers=False, max_video_clips=max_video_clips,)"
   ]
  },
  {
   "cell_type": "code",
   "execution_count": 3,
   "id": "38d3ccd3-4d5c-43c1-badc-90be5e18d1fb",
   "metadata": {},
   "outputs": [
    {
     "name": "stderr",
     "output_type": "stream",
     "text": [
      "/home/jovyan/.mlspace/envs/video_vika/lib/python3.10/site-packages/torchvision/transforms/functional.py:1603: UserWarning: The default value of the antialias parameter of all the resizing transforms (Resize(), RandomResizedCrop(), etc.) will change from None to True in v0.17, in order to be consistent across the PIL and Tensor backends. To suppress this warning, directly pass antialias=True (recommended, future default), antialias=None (current default, which means False for Tensors and True for PIL), or antialias=False (only works on Tensors - PIL will still use antialiasing). This also applies if you are using the inference transforms from the models weights: update the call to weights.transforms(antialias=True).\n",
      "  warnings.warn(\n",
      "/home/jovyan/.mlspace/envs/video_vika/lib/python3.10/site-packages/transformers/generation/utils.py:1417: UserWarning: You have modified the pretrained model configuration to control generation. This is a deprecated strategy to control generation and will be removed soon, in a future version. Please use a generation configuration file (see https://huggingface.co/docs/transformers/main_classes/text_generation )\n",
      "  warnings.warn(\n"
     ]
    },
    {
     "name": "stdout",
     "output_type": "stream",
     "text": [
      "At the beginning of the video, the six dancers are standing on stage wearing colorful costumes and holding their hands in their palms.\n"
     ]
    }
   ],
   "source": [
    "video_path = '/home/jovyan/shares/SR004.nfs2/chekalina/LaVIT/VideoLaVIT/eval/videoChatgpt_test/v_hFi6S_guB7I.mp4'\n",
    "prompt = 'What is the appearance of the women dancers at the beginning of the video?'\n",
    "\n",
    "output = runner({\"video\": video_path, \"text_input\": prompt}, length_penalty=1, \\\n",
    "        use_nucleus_sampling=True, num_beams=1, max_length=512, temperature=1.0)[0]\n",
    "print(output)"
   ]
  },
  {
   "cell_type": "code",
   "execution_count": null,
   "id": "c963b438-a5d2-48ac-b680-bf6979302bed",
   "metadata": {},
   "outputs": [
    {
     "name": "stderr",
     "output_type": "stream",
     "text": [
      "1it [00:13, 13.01s/it]"
     ]
    },
    {
     "name": "stdout",
     "output_type": "stream",
     "text": [
      "What is the appearance of the women dancers at the beginning of the video? \n",
      " At the beginning of the video, the group of women appear on stage performing belly dance in an orange and gold costume. \n",
      " The women dancers are a group of five, wearing different colored belly-dancing outfits, holding their right hands up and facing away from the audience.\n"
     ]
    },
    {
     "name": "stderr",
     "output_type": "stream",
     "text": [
      "101it [22:09, 17.91s/it]"
     ]
    },
    {
     "name": "stdout",
     "output_type": "stream",
     "text": [
      "What happens to one of the women in the first team during the game? \n",
      " During the game, one of the women on the first team has trouble keeping the shuttlecock and accidentally hits another player with it. This results in the game taking a temporary break until the injured player is able to retrieve the shuttlecock and resume the game. \n",
      " One of the women in the first team walks out of the court and picks up a purse while walking towards the back of the court. She briefly speaks to one of her teammates while walking away.\n"
     ]
    },
    {
     "name": "stderr",
     "output_type": "stream",
     "text": [
      "201it [1:02:56, 11.26s/it]"
     ]
    },
    {
     "name": "stdout",
     "output_type": "stream",
     "text": [
      "What is happening on the tennis court at the beginning of the video? \n",
      " The camera zooms in on a person's feet and shows a boy with a racket in his hands, preparing to serve. \n",
      " The man with the racquet is standing on the right side of the court, throws the ball in the air, and hits it towards the other end of the court.\n"
     ]
    },
    {
     "name": "stderr",
     "output_type": "stream",
     "text": [
      "277it [1:31:00, 25.89s/it]"
     ]
    }
   ],
   "source": [
    "import json\n",
    "import os\n",
    "\n",
    "import os\n",
    "pwd = os.path.abspath(os.getcwd())\n",
    "\n",
    "from tqdm import tqdm\n",
    "\n",
    "with open(\"generic_qa.json\") as file:\n",
    "    gt_contents = json.load(file)\n",
    "\n",
    "    # Create the output directory if it doesn't exist\n",
    "if not os.path.exists('video_gpt_test'):\n",
    "    os.makedirs('video_gpt_test')\n",
    "\n",
    "output_list = []  # List to store the output results\n",
    "\n",
    "video_formats = ['.mp4', '.avi', '.mov', '.mkv']\n",
    "\n",
    "output_list = []    # Iterate over each sample in the ground truth file\n",
    "for i, sample in tqdm(enumerate(gt_contents)):\n",
    "    video_name = sample['video_name']\n",
    "    sample_set = sample\n",
    "    question = sample['Q']\n",
    "    answer = sample['A']\n",
    "\n",
    "    for fmt in video_formats:  # Added this line\n",
    "        temp_path = os.path.join(pwd + \"/videoChatgpt_test/\", f\"{video_name}{fmt}\")\n",
    "        if os.path.exists(temp_path):\n",
    "            video_path = temp_path\n",
    "            break\n",
    "\n",
    "    try:\n",
    "        # Run inference on the video and add the output to the list\n",
    "        output = runner({\"video\": video_path, \"text_input\": question}, length_penalty=1, \\\n",
    "        use_nucleus_sampling=True, num_beams=1, max_length=512, temperature=1.0)[0]\n",
    "    except:\n",
    "        print (\"yu\")\n",
    "\n",
    "    if (i% 100 == 0):\n",
    "        print (question,'\\n',  output, '\\n', answer)\n",
    "    sample_set['pred'] = output\n",
    "    output_list.append(sample_set)\n",
    "\n",
    "with open(os.path.join('video_gpt_test/', \"generic_answer.json\"), 'w') as file:\n",
    "    json.dump(output_list, file)"
   ]
  },
  {
   "cell_type": "code",
   "execution_count": null,
   "id": "ec030418-9f60-4a7e-a3bd-8d3d8a988103",
   "metadata": {},
   "outputs": [
    {
     "name": "stderr",
     "output_type": "stream",
     "text": [
      "1it [00:16, 16.37s/it]"
     ]
    },
    {
     "name": "stdout",
     "output_type": "stream",
     "text": [
      "What is the first activity that the boy wearing a red t-shirt and black shorts performs in the video? \n",
      " The boy in the red t-shirt and black shorts jumps up on the uneven bars and begins swinging. \n",
      " In the video, the boy wearing a red t-shirt and black shorts starts his routine by swinging on the bars and doing a handstand.\n"
     ]
    },
    {
     "name": "stderr",
     "output_type": "stream",
     "text": [
      "101it [24:01, 17.80s/it]"
     ]
    },
    {
     "name": "stdout",
     "output_type": "stream",
     "text": [
      "What is happening towards the end of the video? \n",
      " Towards the end of the video, we see a girl bounce the ball to her other team member who then bounces the ball to the boy next to it, and then the girl bounces the ball to her friend who makes a successful layup shot. It appears that the game is ending. \n",
      " Towards the end of the video, both teams stop playing and walk over to the middle of the basketball court.\n"
     ]
    },
    {
     "name": "stderr",
     "output_type": "stream",
     "text": [
      "201it [43:17,  8.77s/it]"
     ]
    },
    {
     "name": "stdout",
     "output_type": "stream",
     "text": [
      "What happens after the woman wearing an orange top walks up to the man in the kitchen? \n",
      " In the video, the woman in an orange top walks up to the man who is wearing a white shirt and blue shorts. Unfortunately, the video does not reveal what happens after that. \n",
      " After the woman in the orange top walks up to the man washing dishes in the kitchen and throws a few items into the sink, the man steps away startled.\n"
     ]
    },
    {
     "name": "stderr",
     "output_type": "stream",
     "text": [
      "301it [1:02:03,  9.70s/it]"
     ]
    },
    {
     "name": "stdout",
     "output_type": "stream",
     "text": [
      "In what order do the participants attempt their high jumps? \n",
      " The participants attempt their high jumps in a random order, while a woman on the side keeps score for them. \n",
      " The first participant, wearing a red and green vest, attempts the high jump first, followed by the participant in the red and cream vest, and then lastly, the participant in the light blue jersey.\n"
     ]
    },
    {
     "name": "stderr",
     "output_type": "stream",
     "text": [
      "382it [1:24:17, 15.10s/it]/home/jovyan/shares/SR004.nfs2/chekalina/LaVIT/VideoLaVIT/models/transform.py:200: FutureWarning: elementwise comparison failed; returning scalar instead, but in the future will perform elementwise comparison\n",
      "  start_indexs = np.where(np.array(frame_types)=='I')[0]\n",
      "383it [1:24:18, 10.77s/it]"
     ]
    },
    {
     "name": "stdout",
     "output_type": "stream",
     "text": [
      "yu\n"
     ]
    },
    {
     "name": "stderr",
     "output_type": "stream",
     "text": [
      "401it [1:28:19, 14.28s/it]"
     ]
    },
    {
     "name": "stdout",
     "output_type": "stream",
     "text": [
      "What happens after the shuttlecock is missed by both players? \n",
      " After the shuttlecock is missed by both players, the girl in the pink t-shirt and blue shorts serves the shuttlecock across the net. She misses out on the shuttlecock when her partner fails to return it. \n",
      " After the shuttlecock is missed by both players, a child standing on the side picks it up and throws it at the girl. The camera then pans to people sitting on the side of chairs and one person is seen smiling. After this, the girls continue to play but keep missing the shuttlecock.\n"
     ]
    },
    {
     "name": "stderr",
     "output_type": "stream",
     "text": [
      "499it [1:51:19, 13.39s/it]\n"
     ]
    }
   ],
   "source": [
    "import json\n",
    "import os\n",
    "\n",
    "import os\n",
    "pwd = os.path.abspath(os.getcwd())\n",
    "\n",
    "from tqdm import tqdm\n",
    "\n",
    "with open(\"temporal_qa.json\") as file:\n",
    "    gt_contents = json.load(file)\n",
    "\n",
    "    # Create the output directory if it doesn't exist\n",
    "if not os.path.exists('video_gpt_test'):\n",
    "    os.makedirs('video_gpt_test')\n",
    "\n",
    "output_list = []  # List to store the output results\n",
    "\n",
    "video_formats = ['.mp4', '.avi', '.mov', '.mkv']\n",
    "\n",
    "output_list = []    # Iterate over each sample in the ground truth file\n",
    "for i, sample in tqdm(enumerate(gt_contents)):\n",
    "    video_name = sample['video_name']\n",
    "    sample_set = sample\n",
    "    question = sample['Q']\n",
    "    answer = sample['A']\n",
    "\n",
    "    for fmt in video_formats:  # Added this line\n",
    "        temp_path = os.path.join(pwd + \"/videoChatgpt_test/\", f\"{video_name}{fmt}\")\n",
    "        if os.path.exists(temp_path):\n",
    "            video_path = temp_path\n",
    "            break\n",
    "\n",
    "    try:\n",
    "        # Run inference on the video and add the output to the list\n",
    "        output = runner({\"video\": video_path, \"text_input\": question}, length_penalty=1, \\\n",
    "        use_nucleus_sampling=True, num_beams=1, max_length=512, temperature=1.0)[0]\n",
    "    except:\n",
    "        print (\"yu\")\n",
    "\n",
    "    if (i% 100 == 0):\n",
    "        print (question,'\\n',  output, '\\n', answer)\n",
    "    sample_set['pred'] = output\n",
    "    output_list.append(sample_set)\n",
    "\n",
    "with open(os.path.join('video_gpt_test/', \"temporal_qa.json\"), 'w') as file:\n",
    "    json.dump(output_list, file)"
   ]
  },
  {
   "cell_type": "markdown",
   "id": "837f0c5d-265b-4f71-b5a0-35050ef072bd",
   "metadata": {},
   "source": [
    "## Validation:"
   ]
  },
  {
   "cell_type": "code",
   "execution_count": 1,
   "id": "8926a6f8-28ef-4abb-a669-c35b80aa2491",
   "metadata": {},
   "outputs": [],
   "source": [
    "import json\n",
    "\n",
    "import os\n",
    "import gc\n",
    "import re\n",
    "import sys\n",
    "import csv\n",
    "import time\n",
    "import tqdm\n",
    "import json\n",
    "import numpy as np\n",
    "import pandas as pd\n",
    "from copy import deepcopy\n",
    "from pathlib import Path\n",
    "from pprint import pprint\n",
    "from typing import Optional, Any, List, Union, Tuple, Dict, Callable\n",
    "from collections import defaultdict, OrderedDict, Counter\n",
    "\n",
    "import openai\n",
    "import asyncio\n",
    "from tqdm.asyncio import tqdm_asyncio\n",
    "\n",
    "with open(os.path.join('video_gpt_test/', \"temporal_qa.json\"), 'r') as file:\n",
    "    output_list = json.load(file)"
   ]
  },
  {
   "cell_type": "code",
   "execution_count": 2,
   "id": "8e027cdc-d3e2-4957-b3a4-16d71c729508",
   "metadata": {},
   "outputs": [
    {
     "data": {
      "text/plain": [
       "{'Q': 'What are some of the different scenes shown in the video and how are they related temporally?',\n",
       " 'A': 'The video begins with a man sailing a dinghy during daytime with cloudy skies and a visible pier in the distance. This is followed by clips of different dinghies sailing fast through the water. In one scene, a dinghy with red and white sails is shown, followed by a dinghy with a white sail, and then a few more dinghies sailing fast. Towards the end of the video, a man in a red wetsuit is shown maneuvering his dinghy, followed by clips of other sailors moving their dinghies around. The video ends with the man with the red sails leaning on his dinghy and maneuvering it, thus continuing the temporal sequence of events that began at the start of the video.',\n",
       " 'video_name': 'v_dKJMP8EmZjw',\n",
       " 'pred': 'The video features different scenes of sailboats and windsurfers on choppy waters. A red and white sailboat is seen turning over in the ocean at times while a man in a red jacket is seen skiing. Some scenes show the windsurfer turning over in the water, while others show the windsurfer in the ocean with a sailboat. The video is related temporally because all the scenes show sailboats and windsurfers sailing, with brief interactions between them shown.'}"
      ]
     },
     "execution_count": 2,
     "metadata": {},
     "output_type": "execute_result"
    }
   ],
   "source": [
    "output_list[6]"
   ]
  },
  {
   "cell_type": "code",
   "execution_count": 3,
   "id": "ab64fa5d-6992-4f8a-8775-d2fb807782c8",
   "metadata": {},
   "outputs": [
    {
     "data": {
      "text/plain": [
       "499"
      ]
     },
     "execution_count": 3,
     "metadata": {},
     "output_type": "execute_result"
    }
   ],
   "source": [
    "len(output_list)"
   ]
  },
  {
   "cell_type": "code",
   "execution_count": 7,
   "id": "dbe3c7b0-8b15-4866-be3d-4f3319dd1bee",
   "metadata": {},
   "outputs": [],
   "source": [
    "from openai import OpenAI, AsyncOpenAI\n",
    "\n",
    "client = AsyncOpenAI(api_key='YOUR_API_KEY', base_url='http://0.0.0.0:23333/v1')"
   ]
  },
  {
   "cell_type": "code",
   "execution_count": 8,
   "id": "f71d71d3-6061-423b-9ace-b5c4c9518bbb",
   "metadata": {},
   "outputs": [
    {
     "data": {
      "text/plain": [
       "'unsloth/llama-3-8b-Instruct'"
      ]
     },
     "execution_count": 8,
     "metadata": {},
     "output_type": "execute_result"
    }
   ],
   "source": [
    "model_names = await client.models.list()\n",
    "MODEL_NAME = model_names.data[0].id\n",
    "MODEL_NAME"
   ]
  },
  {
   "cell_type": "code",
   "execution_count": 7,
   "id": "578e04b9-3e48-487a-8f40-feb5b22d550e",
   "metadata": {},
   "outputs": [
    {
     "name": "stdout",
     "output_type": "stream",
     "text": [
      "0\n",
      "What is the first activity that the boy wearing a red t-shirt and black shorts performs in the video? In the video, the boy wearing a red t-shirt and black shorts starts his routine by swinging on the bars and doing a handstand. The boy in the red t-shirt and black shorts jumps up on the uneven bars and begins swinging.\n",
      "None\n",
      "5\n",
      "100\n",
      "What is happening towards the end of the video? Towards the end of the video, both teams stop playing and walk over to the middle of the basketball court. Towards the end of the video, we see a girl bounce the ball to her other team member who then bounces the ball to the boy next to it, and then the girl bounces the ball to her friend who makes a successful layup shot. It appears that the game is ending.\n",
      "None\n",
      "5\n",
      "200\n",
      "What happens after the woman wearing an orange top walks up to the man in the kitchen? After the woman in the orange top walks up to the man washing dishes in the kitchen and throws a few items into the sink, the man steps away startled. In the video, the woman in an orange top walks up to the man who is wearing a white shirt and blue shorts. Unfortunately, the video does not reveal what happens after that.\n",
      "None\n",
      "0\n",
      "300\n",
      "In what order do the participants attempt their high jumps? The first participant, wearing a red and green vest, attempts the high jump first, followed by the participant in the red and cream vest, and then lastly, the participant in the light blue jersey. The participants attempt their high jumps in a random order, while a woman on the side keeps score for them.\n",
      "None\n",
      "0\n",
      "400\n",
      "What happens after the shuttlecock is missed by both players? After the shuttlecock is missed by both players, a child standing on the side picks it up and throws it at the girl. The camera then pans to people sitting on the side of chairs and one person is seen smiling. After this, the girls continue to play but keep missing the shuttlecock. After the shuttlecock is missed by both players, the girl in the pink t-shirt and blue shorts serves the shuttlecock across the net. She misses out on the shuttlecock when her partner fails to return it.\n",
      "None\n",
      "2\n"
     ]
    }
   ],
   "source": [
    "import ast\n",
    "\n",
    "scores = []\n",
    "for ind, elem in enumerate(output_list):\n",
    "    question = elem['Q']\n",
    "    answer = elem['A']\n",
    "    pred = elem['pred']\n",
    "    \n",
    "    \n",
    "    completion = await client.chat.completions.create(\n",
    "                    model=MODEL_NAME,\n",
    "                    messages=[\n",
    "                    {\n",
    "                        \"role\": \"system\",\n",
    "                        \"content\":\n",
    "                            \"You are an intelligent chatbot designed for evaluating the temporal understanding of generative outputs for video-based question-answer pairs. \"\n",
    "                            \"Your task is to compare the predicted answer with the correct answer and determine if they correctly reflect the temporal sequence of events in the video content. Here's how you can accomplish the task:\"\n",
    "                            \"------\"\n",
    "                            \"##INSTRUCTIONS: \"\n",
    "                            \"- Focus on the temporal consistency between the predicted answer and the correct answer. The predicted answer should correctly reflect the sequence of events or details as they are presented in the video content.\\n\"\n",
    "                            \"- Consider synonyms or paraphrases as valid matches, but only if the temporal order is maintained.\\n\"\n",
    "                            \"- Evaluate the temporal accuracy of the prediction compared to the answer.\"\n",
    "                    },\n",
    "                    {\n",
    "                        \"role\": \"user\",\n",
    "                        \"content\":\n",
    "                            \"Please evaluate the following video-based question-answer pair:\\n\\n\"\n",
    "                            f\"Question: {question}\\n\"\n",
    "                            f\"Correct Answer: {answer}\\n\"\n",
    "                            f\"Predicted Answer: {pred}\\n\\n\"\n",
    "                            \"Provide your evaluation only as a temporal accuracy score where the temporal accuracy score is an integer value between 0 and 5, with 5 indicating the highest level of temporal consistency. \"\n",
    "                            \"Please generate the response in the form of a Python dictionary string with keys 'score', where its value is the temporal accuracy score in INTEGER, not STRING.\"\n",
    "                            \"DO NOT PROVIDE ANY OTHER OUTPUT TEXT OR EXPLANATION. Only provide the Python dictionary string. \"\n",
    "                            \"For example, your response should look like this: {''score': 4.8}.\"\n",
    "                    }\n",
    "                ]\n",
    "    )\n",
    "\n",
    "    # Convert response to a Python dictionary.\n",
    "    if (ind%100 ==0):\n",
    "        print (ind)\n",
    "        print (print (question, answer, pred))\n",
    "        print (ast.literal_eval(completion.choices[0].message.content)['score'])\n",
    "    try:\n",
    "        scores.append(ast.literal_eval(completion.choices[0].message.content)['score'])\n",
    "    except:\n",
    "        continue"
   ]
  },
  {
   "cell_type": "code",
   "execution_count": 8,
   "id": "05f54631-39b0-4e21-9d36-ae85b468ad89",
   "metadata": {},
   "outputs": [
    {
     "data": {
      "text/plain": [
       "2.4556451612903225"
      ]
     },
     "execution_count": 8,
     "metadata": {},
     "output_type": "execute_result"
    }
   ],
   "source": [
    "import numpy as np\n",
    "np.mean(scores)"
   ]
  },
  {
   "cell_type": "code",
   "execution_count": 2,
   "id": "2249a4f0-5718-4d97-989f-65f1e7c9c18d",
   "metadata": {},
   "outputs": [],
   "source": [
    "with open(os.path.join('video_gpt_test/', \"generic_answer.json\"), 'r') as file:\n",
    "    output_list = json.load(file)"
   ]
  },
  {
   "cell_type": "code",
   "execution_count": 3,
   "id": "899f9fe6-d6c9-4956-8274-dd076ebe4435",
   "metadata": {},
   "outputs": [
    {
     "data": {
      "text/plain": [
       "1996"
      ]
     },
     "execution_count": 3,
     "metadata": {},
     "output_type": "execute_result"
    }
   ],
   "source": [
    "len(output_list)"
   ]
  },
  {
   "cell_type": "code",
   "execution_count": 4,
   "id": "71205bef-a5a9-4a52-afeb-c6055681185b",
   "metadata": {},
   "outputs": [
    {
     "data": {
      "text/plain": [
       "{'Q': 'What type of drills are the children doing in the video?',\n",
       " 'A': 'The children are doing different stances, punch and kick drills along with movement.',\n",
       " 'video_name': 'v_jN-jnIgzd6k',\n",
       " 'pred': 'The children are doing karate and practicing various moves and kicks. They seem to be following the instructions of an instructor who is standing in front of them.'}"
      ]
     },
     "execution_count": 4,
     "metadata": {},
     "output_type": "execute_result"
    }
   ],
   "source": [
    "output_list[10]"
   ]
  },
  {
   "cell_type": "markdown",
   "id": "ca3df21c-0084-4f5a-ab9c-9785baa500d6",
   "metadata": {},
   "source": [
    "## Correctness"
   ]
  },
  {
   "cell_type": "code",
   "execution_count": 9,
   "id": "a3d3a8d5-9e4c-481b-afc8-95346c0ac4e9",
   "metadata": {},
   "outputs": [
    {
     "name": "stdout",
     "output_type": "stream",
     "text": [
      "0\n",
      "What is the appearance of the women dancers at the beginning of the video? The women dancers are a group of five, wearing different colored belly-dancing outfits, holding their right hands up and facing away from the audience. At the beginning of the video, the group of women appear on stage performing belly dance in an orange and gold costume.\n",
      "None\n",
      "4\n",
      "100\n",
      "What happens to one of the women in the first team during the game? One of the women in the first team walks out of the court and picks up a purse while walking towards the back of the court. She briefly speaks to one of her teammates while walking away. During the game, one of the women on the first team has trouble keeping the shuttlecock and accidentally hits another player with it. This results in the game taking a temporary break until the injured player is able to retrieve the shuttlecock and resume the game.\n",
      "None\n",
      "0\n",
      "200\n",
      "What is happening on the tennis court at the beginning of the video? The man with the racquet is standing on the right side of the court, throws the ball in the air, and hits it towards the other end of the court. The camera zooms in on a person's feet and shows a boy with a racket in his hands, preparing to serve.\n",
      "None\n",
      "5\n",
      "300\n",
      "Can you describe the video in detail? The video shows a woman in a small gym wearing a grey t-shirt and black track pants. There is sunlight streaming from an open door in front of her and other exercise equipment around her. She is seen holding a bar without weights in her hands and practices the movement patterns of weightlifting by lifting the bar over her head. In the next clip, a barbell with red colored weights is placed in front of her. She then bends down and lifts the barbell, following the movement patterns she practiced before. The gym floor is made of concrete. Sure! The video shows a man performing a weightlifting exercise by lifting a barbell with moderate weight. Sweat pours down his forehead, indicating that the exercise is challenging and he has been working out for quite some time. As the man is completing the exercise, the barbell gets stuck, and he struggles to move it to the designated location. He tries to lift the weight from different angles, but it doesn't budge. From the video, it is clear that the man is determined and wants to overcome the obstacle. Unfortunately, the amount of sweat pouring down his forehead also suggests that he might have been at this exercise for some time, so it is possible that he is struggling with exhaustion. As a result of this, this video showcases the struggles and pain that goes into performing a difficult exercise.\n",
      "None\n",
      "1\n",
      "400\n",
      "Can you describe the video content in detail? In the video, we see a woman wearing a green sweater standing in a well-lit room with a window behind her. Hanging behind her is a jeans jacket and on the ironing board in front of her is an iron and a men's cotton dress shirt which is being ironed. To the left and behind her is a rack displaying various products. She begins by spraying starch on the shirt and ironing it, so that steam can be seen escaping from the holes of the iron. She then proceeds to iron the sleeve of the shirt, flipping it over once it's done to smooth it into a flat surface and sprays more starch before ironing it again. The woman then irons the ends of the sleeve before flipping the shirt over and continuing the process on the other side. The video shows a transgender man wearing a green sweater, sitting at a dining table and ironing a pair of white pants. White windows can be seen in the background, and there's a man in a blue shirt standing near the window in the same room. The transgender man holds a bottle in his hand while flipping the pants over and ironing the bottom of the pants. The person has two piercings, one in the cheek and the other in the neck, and is wearing a ring on the index finger. There is a bottle of water on the table, and a small white cup containing some chemical is kept beside it. Overall, the video shows a transgender man taking care of his clothes and getting a job done.\n",
      "None\n",
      "1\n",
      "500\n",
      "Can you describe the video in detail? In the beginning of the video, we see a woman holding a bow and wearing a quiver with arrows on an indoor basketball court. Wearing black trousers and a black top, she draws arrows from her quiver and shoots them one after another until her quiver is empty. In the next clip, she is shown from the back shooting toward a makeshift target made of sheets hung near the basketball hoop. She shoots arrows one after another into a sheet in the middle of the target. Yes, of course! The video features a woman standing inside a gym and holding a bow and arrow. She is preparing herself by pulling back the string on the bow several times. Once she feels ready, she slowly takes aim and releases her arrow. The arrow flies through the air and hits a target in the distance. From the sound of the bowstring snapping and the satisfying thud of the arrow hitting the target, it is clear that the woman is an experienced archer. Her movements are precise and deliberate, indicating that she has spent a lot of time practicing this skill. Overall, the video showcases the woman's skillful archery practice and her accuracy with the bow and arrow. It is a brief, yet intriguing display of sportsmanship and precision that is sure to captivate the viewer's attention.\n",
      "None\n",
      "5\n",
      "600\n",
      "What is the man doing in the video? The man is lifting a barbell over his head and dropping it to the floor. The man in the video is lifting weights in a garage. He lifts the weights up briefly and then drops them on the ground.\n",
      "None\n",
      "5\n",
      "700\n",
      "What happens after the batsman hits the ball towards the woods? The batsman and the non-striker start running between the wickets while the fielders try to find the ball. Unfortunately, there is no information available regarding the outcome of the ball hitting the woods, or any other ongoing action after it is hit.\n",
      "None\n",
      "0\n",
      "800\n",
      "What is happening in the video? In the video, a woman and a young girl can be seen cleaning dishes in a kitchen sink with soap and water. The woman starts by scrubbing the dishes, and the young girl later joins in, holding up a handful of suds. In the video, a woman is washing dishes alone in the kitchen sink while smiling and talking. She rinses a pot with water and cleans it thoroughly before putting it away to dry.\n",
      "None\n",
      "4\n",
      "900\n",
      "Can you describe the setting and actions of the girl in the beginning of the video? At the beginning of the video, a girl is seen playing the piano by an open window with sunlight streaming in. Trees are visible outside the window, and the edge of a bed is visible behind the chair she is sitting on. She is referencing sheet music in front of her and starts singing as she is playing. In the beginning of the video, a girl is sitting in front of a piano holding a music score.\n",
      "None\n",
      "4\n",
      "1000\n",
      "What activities are the men in the video engaged in? The video shows men engaged in different kinds of training such as drills on a trampoline, push-ups, ballet training, and performing a jumping routine in ballet costumes. The men are doing ballet exercises in a large building with high ceilings and large arched windows, as seen in the video.\n",
      "None\n",
      "5\n",
      "1100\n",
      "What kind of harness is the man wearing? The man is wearing a harness on his white shirt. The man in the video is wearing a harness, which is commonly used in adventure activities and ziplining as a safety measure.\n",
      "None\n",
      "3\n",
      "1200\n",
      "Who else enters the frame during the video? A little girl walks into the frame on the left. A woman walks by while the haircut is underway and briefly looks towards the camera.\n",
      "None\n",
      "5\n",
      "1300\n",
      "Can you describe in detail the process of painting the nails in the video? The video begins by showing close-up shots of a woman's painted fingernails. In the next scene, she applies a clear base coat to all her fingers before applying pink nail polish specifically to the ring finger. The next thing she does is draw black blocks randomly onto the white nail polish. She then places two black rhinestones on the pink nail to add some decoration. Lastly, she finishes off the look by applying a top coat to all the nails. The video ends with a still image showcasing the finished look. In the video, a person is seen painting a nail pink and then begins painting random black lines onto the nail, giving it a unique and visually interesting appearance. The person continues painting more nails, and each is covered in black paint. Next, the person adds random black dots and other colors to create a complex design. The process of painting the nails is slow and detailed, with the person taking extra care to evenly distribute the paint and ensure that the design is uniform. The final product is a set of vibrant and eye-catching nails, each one covered with a unique design that showcases the creativity and skill of the person behind them. Overall, the process of painting the nails in the video is both fascinating and enjoyable to watch.\n",
      "None\n",
      "4\n",
      "1400\n",
      "Can you describe Michal Navratil’s diving maneuvers in detail from the provided video description? The video features Michal Navratil doing different diving maneuvers off a diving board. He begins with flips and moves on to execute tucks, twists, forward dives, among others. The pool where Navratil is diving in is both well-lit by lights inside the building and sunlight from outside. Other people are visible around the pool area and Navratil can be seen executing his dives with perfect form and control. The video concludes with Navratil executing a forward tuck dive while an image of him shirtless and in jeans doing a split is displayed on the screen. In the video, Michal Navratil performs a forward roll in mid-air before diving into the water. The roll is a type of trick in diving where the diver rotates forward and then enters the water, showcasing their skill and athleticism. This maneuver highlights the grace and precision required in the sport of diving, and it is a crowd pleaser as it showcases the diver's talent. The maneuver is named forward roll or front somersault. The man in the video showcases this maneuver before diving into the swimming pool and is seen landing smoothly on the surface.\n",
      "None\n",
      "4\n",
      "1500\n",
      "What is the girl doing in the video? The girl is participating in a discus throwing competition within a practice net. The girl in the video is swinging an object around her several times before letting go of it and watching as it flies through the air.\n",
      "None\n",
      "4\n",
      "1600\n",
      "What is happening at the end of the video? At the end of the video, the boy knocks on a door and hands a stuffed animal to a girl. At the end of the video, the young man is seen putting on sunglasses in a mirror while the woman behind him makes silly or funny faces and gestures. It appears that they are both having a good time and enjoying each other's humor. The video doesn't provide any information about the next scene.\n",
      "None\n",
      "0\n",
      "1700\n",
      "Can you describe the game of volleyball played in the video? The video showcases a game of volleyball played indoors on a well-lit court with a light wood floor and white and grey walls. A man wearing black sleeveless t-shirt and red shorts serves the ball on the left side of the court and then stands inside the left court. The team on the right side misses the hit and the ball is returned back to the left side, where the same person who served the ball before does it again. As both teams continue to exchange hits, the team on the right misses the return hit and loses the exchange. The video ends as the players stop playing. In the video, we see some adult men and women playing indoor volleyball in the gym. The men are wearing different colored shirts, and the women were dressed in sports attire. The players are engaged in the game, hitting the ball back and forth over the net to score points. We also see a man wearing a yellow T-shirt and black shorts getting hit by the ball.\n",
      "None\n",
      "4\n",
      "1800\n",
      "What is the man in the blue t-shirt doing on the sailboat? The man in the blue t-shirt and glasses is cranking a lever connected to a chain on the sailboat in the sea during the daytime. The man in the blue t-shirt is sitting on the deck of the sailboat. It is unclear from the video what he is specifically doing on the boat, but he holds onto the large rope while sitting.\n",
      "None\n",
      "4\n",
      "1900\n",
      "What is the man on the sailboat doing? The man on the sailboat is cranking a lever connected to a chain. The man on the sailboat at the beginning of the video is steering the boat and pulling on a lever to navigate through the water.\n",
      "None\n",
      "5\n"
     ]
    }
   ],
   "source": [
    "import ast\n",
    "\n",
    "scores = []\n",
    "for ind, elem in enumerate(output_list):\n",
    "    question = elem['Q']\n",
    "    answer = elem['A']\n",
    "    pred = elem['pred']\n",
    "    \n",
    "    \n",
    "    completion = await client.chat.completions.create(\n",
    "                    model=MODEL_NAME,\n",
    "                    messages=[\n",
    "                    {\n",
    "                        \"role\": \"system\",\n",
    "                        \"content\": \n",
    "                            \"You are an intelligent chatbot designed for evaluating the factual accuracy of generative outputs for video-based question-answer pairs. \"\n",
    "                            \"Your task is to compare the predicted answer with the correct answer and determine if they are factually consistent. Here's how you can accomplish the task:\"\n",
    "                            \"------\"\n",
    "                            \"##INSTRUCTIONS: \"\n",
    "                            \"- Focus on the factual consistency between the predicted answer and the correct answer. The predicted answer should not contain any misinterpretations or misinformation.\\n\"\n",
    "                            \"- The predicted answer must be factually accurate and align with the video content.\\n\"\n",
    "                            \"- Consider synonyms or paraphrases as valid matches.\\n\"\n",
    "                            \"- Evaluate the factual accuracy of the prediction compared to the answer.\"\n",
    "                    },\n",
    "                    {\n",
    "                        \"role\": \"user\",\n",
    "                        \"content\":\n",
    "                            \"Please evaluate the following video-based question-answer pair:\\n\\n\"\n",
    "                            f\"Question: {question}\\n\"\n",
    "                            f\"Correct Answer: {answer}\\n\"\n",
    "                            f\"Predicted Answer: {pred}\\n\\n\"\n",
    "                            \"Provide your evaluation only as a factual accuracy score where the factual accuracy score is an integer value between 0 and 5, with 5 indicating the highest level of factual consistency. \"\n",
    "                            \"Please generate the response in the form of a Python dictionary string with keys 'score', where its value is the factual accuracy score in INTEGER, not STRING.\"\n",
    "                            \"DO NOT PROVIDE ANY OTHER OUTPUT TEXT OR EXPLANATION. Only provide the Python dictionary string. \"\n",
    "                            \"For example, your response should look like this: {''score': 4.8}.\"\n",
    "                    }\n",
    "                ]\n",
    "    )\n",
    "\n",
    "    # Convert response to a Python dictionary.\n",
    "    if (ind%100 ==0):\n",
    "        print (ind)\n",
    "        print (print (question, answer, pred))\n",
    "        print (ast.literal_eval(completion.choices[0].message.content)['score'])\n",
    "    try:\n",
    "        scores.append(ast.literal_eval(completion.choices[0].message.content)['score'])\n",
    "    except:\n",
    "        continue"
   ]
  },
  {
   "cell_type": "code",
   "execution_count": 10,
   "id": "aa23b607-d8f8-470d-bbdf-7179c7466d2f",
   "metadata": {},
   "outputs": [
    {
     "data": {
      "text/plain": [
       "3.0105421686746987"
      ]
     },
     "execution_count": 10,
     "metadata": {},
     "output_type": "execute_result"
    }
   ],
   "source": [
    "import numpy as np\n",
    "np.mean(scores)"
   ]
  },
  {
   "cell_type": "markdown",
   "id": "2f339631-c15f-4203-a33d-2ca915b5b535",
   "metadata": {},
   "source": [
    "## Context"
   ]
  },
  {
   "cell_type": "code",
   "execution_count": null,
   "id": "8a7c4dc2-bacf-4db0-a6d6-f6f742141493",
   "metadata": {},
   "outputs": [
    {
     "name": "stdout",
     "output_type": "stream",
     "text": [
      "0\n",
      "What is the appearance of the women dancers at the beginning of the video? The women dancers are a group of five, wearing different colored belly-dancing outfits, holding their right hands up and facing away from the audience. At the beginning of the video, the group of women appear on stage performing belly dance in an orange and gold costume.\n",
      "None\n",
      "4\n",
      "100\n",
      "What happens to one of the women in the first team during the game? One of the women in the first team walks out of the court and picks up a purse while walking towards the back of the court. She briefly speaks to one of her teammates while walking away. During the game, one of the women on the first team has trouble keeping the shuttlecock and accidentally hits another player with it. This results in the game taking a temporary break until the injured player is able to retrieve the shuttlecock and resume the game.\n",
      "None\n",
      "0\n",
      "200\n",
      "What is happening on the tennis court at the beginning of the video? The man with the racquet is standing on the right side of the court, throws the ball in the air, and hits it towards the other end of the court. The camera zooms in on a person's feet and shows a boy with a racket in his hands, preparing to serve.\n",
      "None\n",
      "4\n",
      "300\n",
      "Can you describe the video in detail? The video shows a woman in a small gym wearing a grey t-shirt and black track pants. There is sunlight streaming from an open door in front of her and other exercise equipment around her. She is seen holding a bar without weights in her hands and practices the movement patterns of weightlifting by lifting the bar over her head. In the next clip, a barbell with red colored weights is placed in front of her. She then bends down and lifts the barbell, following the movement patterns she practiced before. The gym floor is made of concrete. Sure! The video shows a man performing a weightlifting exercise by lifting a barbell with moderate weight. Sweat pours down his forehead, indicating that the exercise is challenging and he has been working out for quite some time. As the man is completing the exercise, the barbell gets stuck, and he struggles to move it to the designated location. He tries to lift the weight from different angles, but it doesn't budge. From the video, it is clear that the man is determined and wants to overcome the obstacle. Unfortunately, the amount of sweat pouring down his forehead also suggests that he might have been at this exercise for some time, so it is possible that he is struggling with exhaustion. As a result of this, this video showcases the struggles and pain that goes into performing a difficult exercise.\n",
      "None\n",
      "2\n",
      "400\n",
      "Can you describe the video content in detail? In the video, we see a woman wearing a green sweater standing in a well-lit room with a window behind her. Hanging behind her is a jeans jacket and on the ironing board in front of her is an iron and a men's cotton dress shirt which is being ironed. To the left and behind her is a rack displaying various products. She begins by spraying starch on the shirt and ironing it, so that steam can be seen escaping from the holes of the iron. She then proceeds to iron the sleeve of the shirt, flipping it over once it's done to smooth it into a flat surface and sprays more starch before ironing it again. The woman then irons the ends of the sleeve before flipping the shirt over and continuing the process on the other side. The video shows a transgender man wearing a green sweater, sitting at a dining table and ironing a pair of white pants. White windows can be seen in the background, and there's a man in a blue shirt standing near the window in the same room. The transgender man holds a bottle in his hand while flipping the pants over and ironing the bottom of the pants. The person has two piercings, one in the cheek and the other in the neck, and is wearing a ring on the index finger. There is a bottle of water on the table, and a small white cup containing some chemical is kept beside it. Overall, the video shows a transgender man taking care of his clothes and getting a job done.\n",
      "None\n",
      "1\n",
      "500\n",
      "Can you describe the video in detail? In the beginning of the video, we see a woman holding a bow and wearing a quiver with arrows on an indoor basketball court. Wearing black trousers and a black top, she draws arrows from her quiver and shoots them one after another until her quiver is empty. In the next clip, she is shown from the back shooting toward a makeshift target made of sheets hung near the basketball hoop. She shoots arrows one after another into a sheet in the middle of the target. Yes, of course! The video features a woman standing inside a gym and holding a bow and arrow. She is preparing herself by pulling back the string on the bow several times. Once she feels ready, she slowly takes aim and releases her arrow. The arrow flies through the air and hits a target in the distance. From the sound of the bowstring snapping and the satisfying thud of the arrow hitting the target, it is clear that the woman is an experienced archer. Her movements are precise and deliberate, indicating that she has spent a lot of time practicing this skill. Overall, the video showcases the woman's skillful archery practice and her accuracy with the bow and arrow. It is a brief, yet intriguing display of sportsmanship and precision that is sure to captivate the viewer's attention.\n",
      "None\n",
      "5\n",
      "600\n",
      "What is the man doing in the video? The man is lifting a barbell over his head and dropping it to the floor. The man in the video is lifting weights in a garage. He lifts the weights up briefly and then drops them on the ground.\n",
      "None\n",
      "4.5\n",
      "700\n",
      "What happens after the batsman hits the ball towards the woods? The batsman and the non-striker start running between the wickets while the fielders try to find the ball. Unfortunately, there is no information available regarding the outcome of the ball hitting the woods, or any other ongoing action after it is hit.\n",
      "None\n",
      "0\n",
      "800\n",
      "What is happening in the video? In the video, a woman and a young girl can be seen cleaning dishes in a kitchen sink with soap and water. The woman starts by scrubbing the dishes, and the young girl later joins in, holding up a handful of suds. In the video, a woman is washing dishes alone in the kitchen sink while smiling and talking. She rinses a pot with water and cleans it thoroughly before putting it away to dry.\n",
      "None\n",
      "4\n",
      "900\n",
      "Can you describe the setting and actions of the girl in the beginning of the video? At the beginning of the video, a girl is seen playing the piano by an open window with sunlight streaming in. Trees are visible outside the window, and the edge of a bed is visible behind the chair she is sitting on. She is referencing sheet music in front of her and starts singing as she is playing. In the beginning of the video, a girl is sitting in front of a piano holding a music score.\n",
      "None\n",
      "4\n",
      "1000\n",
      "What activities are the men in the video engaged in? The video shows men engaged in different kinds of training such as drills on a trampoline, push-ups, ballet training, and performing a jumping routine in ballet costumes. The men are doing ballet exercises in a large building with high ceilings and large arched windows, as seen in the video.\n",
      "None\n",
      "4\n",
      "1100\n",
      "What kind of harness is the man wearing? The man is wearing a harness on his white shirt. The man in the video is wearing a harness, which is commonly used in adventure activities and ziplining as a safety measure.\n",
      "None\n",
      "4\n",
      "1200\n",
      "Who else enters the frame during the video? A little girl walks into the frame on the left. A woman walks by while the haircut is underway and briefly looks towards the camera.\n",
      "None\n",
      "4\n",
      "1300\n",
      "Can you describe in detail the process of painting the nails in the video? The video begins by showing close-up shots of a woman's painted fingernails. In the next scene, she applies a clear base coat to all her fingers before applying pink nail polish specifically to the ring finger. The next thing she does is draw black blocks randomly onto the white nail polish. She then places two black rhinestones on the pink nail to add some decoration. Lastly, she finishes off the look by applying a top coat to all the nails. The video ends with a still image showcasing the finished look. In the video, a person is seen painting a nail pink and then begins painting random black lines onto the nail, giving it a unique and visually interesting appearance. The person continues painting more nails, and each is covered in black paint. Next, the person adds random black dots and other colors to create a complex design. The process of painting the nails is slow and detailed, with the person taking extra care to evenly distribute the paint and ensure that the design is uniform. The final product is a set of vibrant and eye-catching nails, each one covered with a unique design that showcases the creativity and skill of the person behind them. Overall, the process of painting the nails in the video is both fascinating and enjoyable to watch.\n",
      "None\n",
      "4\n",
      "1400\n",
      "Can you describe Michal Navratil’s diving maneuvers in detail from the provided video description? The video features Michal Navratil doing different diving maneuvers off a diving board. He begins with flips and moves on to execute tucks, twists, forward dives, among others. The pool where Navratil is diving in is both well-lit by lights inside the building and sunlight from outside. Other people are visible around the pool area and Navratil can be seen executing his dives with perfect form and control. The video concludes with Navratil executing a forward tuck dive while an image of him shirtless and in jeans doing a split is displayed on the screen. In the video, Michal Navratil performs a forward roll in mid-air before diving into the water. The roll is a type of trick in diving where the diver rotates forward and then enters the water, showcasing their skill and athleticism. This maneuver highlights the grace and precision required in the sport of diving, and it is a crowd pleaser as it showcases the diver's talent. The maneuver is named forward roll or front somersault. The man in the video showcases this maneuver before diving into the swimming pool and is seen landing smoothly on the surface.\n",
      "None\n",
      "5\n",
      "1500\n",
      "What is the girl doing in the video? The girl is participating in a discus throwing competition within a practice net. The girl in the video is swinging an object around her several times before letting go of it and watching as it flies through the air.\n",
      "None\n",
      "4\n",
      "1600\n",
      "What is happening at the end of the video? At the end of the video, the boy knocks on a door and hands a stuffed animal to a girl. At the end of the video, the young man is seen putting on sunglasses in a mirror while the woman behind him makes silly or funny faces and gestures. It appears that they are both having a good time and enjoying each other's humor. The video doesn't provide any information about the next scene.\n",
      "None\n",
      "0\n",
      "1700\n",
      "Can you describe the game of volleyball played in the video? The video showcases a game of volleyball played indoors on a well-lit court with a light wood floor and white and grey walls. A man wearing black sleeveless t-shirt and red shorts serves the ball on the left side of the court and then stands inside the left court. The team on the right side misses the hit and the ball is returned back to the left side, where the same person who served the ball before does it again. As both teams continue to exchange hits, the team on the right misses the return hit and loses the exchange. The video ends as the players stop playing. In the video, we see some adult men and women playing indoor volleyball in the gym. The men are wearing different colored shirts, and the women were dressed in sports attire. The players are engaged in the game, hitting the ball back and forth over the net to score points. We also see a man wearing a yellow T-shirt and black shorts getting hit by the ball.\n",
      "None\n",
      "5\n",
      "1800\n",
      "What is the man in the blue t-shirt doing on the sailboat? The man in the blue t-shirt and glasses is cranking a lever connected to a chain on the sailboat in the sea during the daytime. The man in the blue t-shirt is sitting on the deck of the sailboat. It is unclear from the video what he is specifically doing on the boat, but he holds onto the large rope while sitting.\n",
      "None\n",
      "4\n",
      "1900\n",
      "What is the man on the sailboat doing? The man on the sailboat is cranking a lever connected to a chain. The man on the sailboat at the beginning of the video is steering the boat and pulling on a lever to navigate through the water.\n",
      "None\n",
      "4\n"
     ]
    }
   ],
   "source": [
    "import ast\n",
    "\n",
    "scores = []\n",
    "for ind, elem in enumerate(output_list):\n",
    "    question = elem['Q']\n",
    "    answer = elem['A']\n",
    "    pred = elem['pred']\n",
    "    \n",
    "    \n",
    "    completion = await client.chat.completions.create(\n",
    "                    model=MODEL_NAME,\n",
    "                    messages=[\n",
    "                    {\n",
    "                        \"role\": \"system\",\n",
    "                        \"content\":\n",
    "                            \"You are an intelligent chatbot designed for evaluating the contextual understanding of generative outputs for video-based question-answer pairs. \"\n",
    "                            \"Your task is to compare the predicted answer with the correct answer and determine if the generated response aligns with the overall context of the video content. Here's how you can accomplish the task:\"\n",
    "                            \"------\"\n",
    "                            \"##INSTRUCTIONS: \"\n",
    "                            \"- Evaluate whether the predicted answer aligns with the overall context of the video content. It should not provide information that is out of context or misaligned.\\n\"\n",
    "                            \"- The predicted answer must capture the main themes and sentiments of the video.\\n\"\n",
    "                            \"- Consider synonyms or paraphrases as valid matches.\\n\"\n",
    "                            \"- Provide your evaluation of the contextual understanding of the prediction compared to the answer.\"\n",
    "                    },\n",
    "                    {\n",
    "                        \"role\": \"user\",\n",
    "                        \"content\":\n",
    "                            \"Please evaluate the following video-based question-answer pair:\\n\\n\"\n",
    "                            f\"Question: {question}\\n\"\n",
    "                            f\"Correct Answer: {answer}\\n\"\n",
    "                            f\"Predicted Answer: {pred}\\n\\n\"\n",
    "                            \"Provide your evaluation only as a contextual understanding score where the contextual understanding score is an integer value between 0 and 5, with 5 indicating the highest level of contextual understanding. \"\n",
    "                            \"Please generate the response in the form of a Python dictionary string with keys 'score', where its value is contextual understanding score in INTEGER, not STRING.\"\n",
    "                            \"DO NOT PROVIDE ANY OTHER OUTPUT TEXT OR EXPLANATION. Only provide the Python dictionary string. \"\n",
    "                            \"For example, your response should look like this: {''score': 4.8}.\"\n",
    "                    }\n",
    "                ]\n",
    ")\n",
    "\n",
    "    # Convert response to a Python dictionary.\n",
    "    if (ind%100 ==0):\n",
    "        print (ind)\n",
    "        print (print (question, answer, pred))\n",
    "        print (ast.literal_eval(completion.choices[0].message.content)['score'])\n",
    "    try:\n",
    "        scores.append(ast.literal_eval(completion.choices[0].message.content)['score'])\n",
    "    except:\n",
    "        continue"
   ]
  },
  {
   "cell_type": "code",
   "execution_count": 13,
   "id": "400a05a8-828c-449e-8f77-2e06d0032a8c",
   "metadata": {},
   "outputs": [
    {
     "data": {
      "text/plain": [
       "3.489073514602215"
      ]
     },
     "execution_count": 13,
     "metadata": {},
     "output_type": "execute_result"
    }
   ],
   "source": [
    "import numpy as np\n",
    "np.mean(scores)"
   ]
  },
  {
   "cell_type": "markdown",
   "id": "e952b5d6-8e63-4407-93c9-2429fe0cec33",
   "metadata": {},
   "source": [
    "## Detailed orientation"
   ]
  },
  {
   "cell_type": "code",
   "execution_count": 14,
   "id": "ed73f3ff-f88b-4c89-868e-0be4ba79289e",
   "metadata": {},
   "outputs": [
    {
     "name": "stdout",
     "output_type": "stream",
     "text": [
      "0\n",
      "What is the appearance of the women dancers at the beginning of the video? The women dancers are a group of five, wearing different colored belly-dancing outfits, holding their right hands up and facing away from the audience. At the beginning of the video, the group of women appear on stage performing belly dance in an orange and gold costume.\n",
      "None\n",
      "3\n",
      "100\n",
      "What happens to one of the women in the first team during the game? One of the women in the first team walks out of the court and picks up a purse while walking towards the back of the court. She briefly speaks to one of her teammates while walking away. During the game, one of the women on the first team has trouble keeping the shuttlecock and accidentally hits another player with it. This results in the game taking a temporary break until the injured player is able to retrieve the shuttlecock and resume the game.\n",
      "None\n",
      "2\n",
      "200\n",
      "What is happening on the tennis court at the beginning of the video? The man with the racquet is standing on the right side of the court, throws the ball in the air, and hits it towards the other end of the court. The camera zooms in on a person's feet and shows a boy with a racket in his hands, preparing to serve.\n",
      "None\n",
      "4\n",
      "300\n",
      "Can you describe the video in detail? The video shows a woman in a small gym wearing a grey t-shirt and black track pants. There is sunlight streaming from an open door in front of her and other exercise equipment around her. She is seen holding a bar without weights in her hands and practices the movement patterns of weightlifting by lifting the bar over her head. In the next clip, a barbell with red colored weights is placed in front of her. She then bends down and lifts the barbell, following the movement patterns she practiced before. The gym floor is made of concrete. Sure! The video shows a man performing a weightlifting exercise by lifting a barbell with moderate weight. Sweat pours down his forehead, indicating that the exercise is challenging and he has been working out for quite some time. As the man is completing the exercise, the barbell gets stuck, and he struggles to move it to the designated location. He tries to lift the weight from different angles, but it doesn't budge. From the video, it is clear that the man is determined and wants to overcome the obstacle. Unfortunately, the amount of sweat pouring down his forehead also suggests that he might have been at this exercise for some time, so it is possible that he is struggling with exhaustion. As a result of this, this video showcases the struggles and pain that goes into performing a difficult exercise.\n",
      "None\n",
      "2\n",
      "400\n",
      "Can you describe the video content in detail? In the video, we see a woman wearing a green sweater standing in a well-lit room with a window behind her. Hanging behind her is a jeans jacket and on the ironing board in front of her is an iron and a men's cotton dress shirt which is being ironed. To the left and behind her is a rack displaying various products. She begins by spraying starch on the shirt and ironing it, so that steam can be seen escaping from the holes of the iron. She then proceeds to iron the sleeve of the shirt, flipping it over once it's done to smooth it into a flat surface and sprays more starch before ironing it again. The woman then irons the ends of the sleeve before flipping the shirt over and continuing the process on the other side. The video shows a transgender man wearing a green sweater, sitting at a dining table and ironing a pair of white pants. White windows can be seen in the background, and there's a man in a blue shirt standing near the window in the same room. The transgender man holds a bottle in his hand while flipping the pants over and ironing the bottom of the pants. The person has two piercings, one in the cheek and the other in the neck, and is wearing a ring on the index finger. There is a bottle of water on the table, and a small white cup containing some chemical is kept beside it. Overall, the video shows a transgender man taking care of his clothes and getting a job done.\n",
      "None\n",
      "3\n",
      "500\n",
      "Can you describe the video in detail? In the beginning of the video, we see a woman holding a bow and wearing a quiver with arrows on an indoor basketball court. Wearing black trousers and a black top, she draws arrows from her quiver and shoots them one after another until her quiver is empty. In the next clip, she is shown from the back shooting toward a makeshift target made of sheets hung near the basketball hoop. She shoots arrows one after another into a sheet in the middle of the target. Yes, of course! The video features a woman standing inside a gym and holding a bow and arrow. She is preparing herself by pulling back the string on the bow several times. Once she feels ready, she slowly takes aim and releases her arrow. The arrow flies through the air and hits a target in the distance. From the sound of the bowstring snapping and the satisfying thud of the arrow hitting the target, it is clear that the woman is an experienced archer. Her movements are precise and deliberate, indicating that she has spent a lot of time practicing this skill. Overall, the video showcases the woman's skillful archery practice and her accuracy with the bow and arrow. It is a brief, yet intriguing display of sportsmanship and precision that is sure to captivate the viewer's attention.\n",
      "None\n",
      "4.5\n",
      "600\n",
      "What is the man doing in the video? The man is lifting a barbell over his head and dropping it to the floor. The man in the video is lifting weights in a garage. He lifts the weights up briefly and then drops them on the ground.\n",
      "None\n",
      "4\n",
      "700\n",
      "What happens after the batsman hits the ball towards the woods? The batsman and the non-striker start running between the wickets while the fielders try to find the ball. Unfortunately, there is no information available regarding the outcome of the ball hitting the woods, or any other ongoing action after it is hit.\n",
      "None\n",
      "0\n",
      "800\n",
      "What is happening in the video? In the video, a woman and a young girl can be seen cleaning dishes in a kitchen sink with soap and water. The woman starts by scrubbing the dishes, and the young girl later joins in, holding up a handful of suds. In the video, a woman is washing dishes alone in the kitchen sink while smiling and talking. She rinses a pot with water and cleans it thoroughly before putting it away to dry.\n",
      "None\n",
      "4\n",
      "900\n",
      "Can you describe the setting and actions of the girl in the beginning of the video? At the beginning of the video, a girl is seen playing the piano by an open window with sunlight streaming in. Trees are visible outside the window, and the edge of a bed is visible behind the chair she is sitting on. She is referencing sheet music in front of her and starts singing as she is playing. In the beginning of the video, a girl is sitting in front of a piano holding a music score.\n",
      "None\n",
      "2\n",
      "1000\n",
      "What activities are the men in the video engaged in? The video shows men engaged in different kinds of training such as drills on a trampoline, push-ups, ballet training, and performing a jumping routine in ballet costumes. The men are doing ballet exercises in a large building with high ceilings and large arched windows, as seen in the video.\n",
      "None\n",
      "4\n",
      "1100\n",
      "What kind of harness is the man wearing? The man is wearing a harness on his white shirt. The man in the video is wearing a harness, which is commonly used in adventure activities and ziplining as a safety measure.\n",
      "None\n",
      "3\n",
      "1200\n",
      "Who else enters the frame during the video? A little girl walks into the frame on the left. A woman walks by while the haircut is underway and briefly looks towards the camera.\n",
      "None\n",
      "4\n",
      "1300\n",
      "Can you describe in detail the process of painting the nails in the video? The video begins by showing close-up shots of a woman's painted fingernails. In the next scene, she applies a clear base coat to all her fingers before applying pink nail polish specifically to the ring finger. The next thing she does is draw black blocks randomly onto the white nail polish. She then places two black rhinestones on the pink nail to add some decoration. Lastly, she finishes off the look by applying a top coat to all the nails. The video ends with a still image showcasing the finished look. In the video, a person is seen painting a nail pink and then begins painting random black lines onto the nail, giving it a unique and visually interesting appearance. The person continues painting more nails, and each is covered in black paint. Next, the person adds random black dots and other colors to create a complex design. The process of painting the nails is slow and detailed, with the person taking extra care to evenly distribute the paint and ensure that the design is uniform. The final product is a set of vibrant and eye-catching nails, each one covered with a unique design that showcases the creativity and skill of the person behind them. Overall, the process of painting the nails in the video is both fascinating and enjoyable to watch.\n",
      "None\n",
      "4\n",
      "1400\n",
      "Can you describe Michal Navratil’s diving maneuvers in detail from the provided video description? The video features Michal Navratil doing different diving maneuvers off a diving board. He begins with flips and moves on to execute tucks, twists, forward dives, among others. The pool where Navratil is diving in is both well-lit by lights inside the building and sunlight from outside. Other people are visible around the pool area and Navratil can be seen executing his dives with perfect form and control. The video concludes with Navratil executing a forward tuck dive while an image of him shirtless and in jeans doing a split is displayed on the screen. In the video, Michal Navratil performs a forward roll in mid-air before diving into the water. The roll is a type of trick in diving where the diver rotates forward and then enters the water, showcasing their skill and athleticism. This maneuver highlights the grace and precision required in the sport of diving, and it is a crowd pleaser as it showcases the diver's talent. The maneuver is named forward roll or front somersault. The man in the video showcases this maneuver before diving into the swimming pool and is seen landing smoothly on the surface.\n",
      "None\n",
      "4\n",
      "1500\n",
      "What is the girl doing in the video? The girl is participating in a discus throwing competition within a practice net. The girl in the video is swinging an object around her several times before letting go of it and watching as it flies through the air.\n",
      "None\n",
      "4\n",
      "1600\n",
      "What is happening at the end of the video? At the end of the video, the boy knocks on a door and hands a stuffed animal to a girl. At the end of the video, the young man is seen putting on sunglasses in a mirror while the woman behind him makes silly or funny faces and gestures. It appears that they are both having a good time and enjoying each other's humor. The video doesn't provide any information about the next scene.\n",
      "None\n",
      "2\n",
      "1700\n",
      "Can you describe the game of volleyball played in the video? The video showcases a game of volleyball played indoors on a well-lit court with a light wood floor and white and grey walls. A man wearing black sleeveless t-shirt and red shorts serves the ball on the left side of the court and then stands inside the left court. The team on the right side misses the hit and the ball is returned back to the left side, where the same person who served the ball before does it again. As both teams continue to exchange hits, the team on the right misses the return hit and loses the exchange. The video ends as the players stop playing. In the video, we see some adult men and women playing indoor volleyball in the gym. The men are wearing different colored shirts, and the women were dressed in sports attire. The players are engaged in the game, hitting the ball back and forth over the net to score points. We also see a man wearing a yellow T-shirt and black shorts getting hit by the ball.\n",
      "None\n",
      "4\n",
      "1800\n",
      "What is the man in the blue t-shirt doing on the sailboat? The man in the blue t-shirt and glasses is cranking a lever connected to a chain on the sailboat in the sea during the daytime. The man in the blue t-shirt is sitting on the deck of the sailboat. It is unclear from the video what he is specifically doing on the boat, but he holds onto the large rope while sitting.\n",
      "None\n",
      "3\n",
      "1900\n",
      "What is the man on the sailboat doing? The man on the sailboat is cranking a lever connected to a chain. The man on the sailboat at the beginning of the video is steering the boat and pulling on a lever to navigate through the water.\n",
      "None\n",
      "4\n"
     ]
    }
   ],
   "source": [
    "import ast\n",
    "\n",
    "scores = []\n",
    "for ind, elem in enumerate(output_list):\n",
    "    question = elem['Q']\n",
    "    answer = elem['A']\n",
    "    pred = elem['pred']\n",
    "    \n",
    "    \n",
    "    completion = await client.chat.completions.create(\n",
    "                    model=MODEL_NAME,\n",
    "                    messages=[\n",
    "                    {\n",
    "                        \"role\": \"system\",\n",
    "                        \"content\":\n",
    "                            \"You are an intelligent chatbot designed for evaluating the detail orientation of generative outputs for video-based question-answer pairs. \"\n",
    "                            \"Your task is to compare the predicted answer with the correct answer and determine its level of detail, considering both completeness and specificity. Here's how you can accomplish the task:\"\n",
    "                            \"------\"\n",
    "                            \"##INSTRUCTIONS: \"\n",
    "                            \"- Check if the predicted answer covers all major points from the video. The response should not leave out any key aspects.\\n\"\n",
    "                            \"- Evaluate whether the predicted answer includes specific details rather than just generic points. It should provide comprehensive information that is tied to specific elements of the video.\\n\"\n",
    "                            \"- Consider synonyms or paraphrases as valid matches.\\n\"\n",
    "                            \"- Provide a single evaluation score that reflects the level of detail orientation of the prediction, considering both completeness and specificity.\"\n",
    "                    },\n",
    "                    {\n",
    "                        \"role\": \"user\",\n",
    "                        \"content\":\n",
    "                            \"Please evaluate the following video-based question-answer pair:\\n\\n\"\n",
    "                            f\"Question: {question}\\n\"\n",
    "                            f\"Correct Answer: {answer}\\n\"\n",
    "                            f\"Predicted Answer: {pred}\\n\\n\"\n",
    "                            \"Provide your evaluation only as a detail orientation score where the detail orientation score is an integer value between 0 and 5, with 5 indicating the highest level of detail orientation. \"\n",
    "                            \"Please generate the response in the form of a Python dictionary string with keys 'score', where its value is the detail orientation score in INTEGER, not STRING.\"\n",
    "                            \"DO NOT PROVIDE ANY OTHER OUTPUT TEXT OR EXPLANATION. Only provide the Python dictionary string. \"\n",
    "                            \"For example, your response should look like this: {''score': 4.8}.\"\n",
    "                    }\n",
    "                ]\n",
    ")\n",
    "\n",
    "    # Convert response to a Python dictionary.\n",
    "    if (ind%100 ==0):\n",
    "        print (ind)\n",
    "        print (print (question, answer, pred))\n",
    "        print (ast.literal_eval(completion.choices[0].message.content)['score'])\n",
    "    try:\n",
    "        scores.append(ast.literal_eval(completion.choices[0].message.content)['score'])\n",
    "    except:\n",
    "        continue"
   ]
  },
  {
   "cell_type": "code",
   "execution_count": 15,
   "id": "480ad8c6-fe0b-41fa-baf2-465c103760ff",
   "metadata": {},
   "outputs": [
    {
     "data": {
      "text/plain": [
       "3.4090863453815263"
      ]
     },
     "execution_count": 15,
     "metadata": {},
     "output_type": "execute_result"
    }
   ],
   "source": [
    "import numpy as np\n",
    "np.mean(scores)"
   ]
  },
  {
   "cell_type": "code",
   "execution_count": null,
   "id": "0ab3f7c3-7001-4c80-9dc3-2416878fe798",
   "metadata": {},
   "outputs": [],
   "source": []
  }
 ],
 "metadata": {
  "kernelspec": {
   "display_name": "Python [conda env:.mlspace-video_vika]",
   "language": "python",
   "name": "conda-env-.mlspace-video_vika-py"
  },
  "language_info": {
   "codemirror_mode": {
    "name": "ipython",
    "version": 3
   },
   "file_extension": ".py",
   "mimetype": "text/x-python",
   "name": "python",
   "nbconvert_exporter": "python",
   "pygments_lexer": "ipython3",
   "version": "3.10.15"
  }
 },
 "nbformat": 4,
 "nbformat_minor": 5
}

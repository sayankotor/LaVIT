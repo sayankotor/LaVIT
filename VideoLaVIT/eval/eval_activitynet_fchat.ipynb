{
 "cells": [
  {
   "cell_type": "code",
   "execution_count": 1,
   "id": "401a7bb4-b441-471f-abcc-866f586629f6",
   "metadata": {},
   "outputs": [],
   "source": [
    "import pickle"
   ]
  },
  {
   "cell_type": "code",
   "execution_count": 2,
   "id": "192e0faf-eb37-4d97-9abd-7c502331a5c1",
   "metadata": {},
   "outputs": [],
   "source": [
    "import pickle\n",
    "file = open(\"y_real_msvdqa.pkl\",'rb')\n",
    "reals = pickle.load(file)\n",
    "\n",
    "file = open(\"y_pred_msvdqa.pkl\",'rb')\n",
    "preds = pickle.load(file)\n",
    "len(preds)\n",
    "\n",
    "file = open(\"questions_actnet.pkl\",'rb')\n",
    "questions = pickle.load(file)\n",
    "len(questions)"
   ]
  },
  {
   "cell_type": "code",
   "execution_count": 3,
   "id": "7ca1cae7-7a0c-4729-9d1c-e7c34d7e9251",
   "metadata": {},
   "outputs": [
    {
     "data": {
      "text/plain": [
       "4901"
      ]
     },
     "execution_count": 3,
     "metadata": {},
     "output_type": "execute_result"
    }
   ],
   "source": [
    "file = open(\"y_pred_msvdqa.pkl\",'rb')\n",
    "preds = pickle.load(file)\n",
    "len(preds)"
   ]
  },
  {
   "cell_type": "code",
   "execution_count": 4,
   "id": "c442e6a3-ce3c-4164-9eab-b32b7d9ee9d4",
   "metadata": {},
   "outputs": [
    {
     "data": {
      "text/plain": [
       "7990"
      ]
     },
     "execution_count": 4,
     "metadata": {},
     "output_type": "execute_result"
    }
   ],
   "source": [
    "file = open(\"questions_actnet.pkl\",'rb')\n",
    "questions = pickle.load(file)\n",
    "len(questions)"
   ]
  },
  {
   "cell_type": "code",
   "execution_count": 5,
   "id": "d68175a3-1a6c-481e-bc15-e38dc07e577a",
   "metadata": {},
   "outputs": [
    {
     "data": {
      "text/plain": [
       "'What is the identity of a brunette woman? Answer the question using a single word.'"
      ]
     },
     "execution_count": 5,
     "metadata": {},
     "output_type": "execute_result"
    }
   ],
   "source": [
    "questions[4700]"
   ]
  },
  {
   "cell_type": "code",
   "execution_count": 6,
   "id": "20441c14-e470-4189-8dd4-53c3179698e7",
   "metadata": {},
   "outputs": [
    {
     "data": {
      "text/plain": [
       "'New reporter'"
      ]
     },
     "execution_count": 6,
     "metadata": {},
     "output_type": "execute_result"
    }
   ],
   "source": [
    "preds[4700]"
   ]
  },
  {
   "cell_type": "code",
   "execution_count": 7,
   "id": "3b0d54ff-73c0-4700-8ccf-860a8103c80d",
   "metadata": {},
   "outputs": [
    {
     "data": {
      "text/plain": [
       "'Reporter'"
      ]
     },
     "execution_count": 7,
     "metadata": {},
     "output_type": "execute_result"
    }
   ],
   "source": [
    "reals[4700]"
   ]
  },
  {
   "cell_type": "code",
   "execution_count": 8,
   "id": "76214906-ca54-4e1e-922e-c7c863ee8ca7",
   "metadata": {},
   "outputs": [
    {
     "data": {
      "text/plain": [
       "['Colleague', 'Colleague', 'Opponent', 'Family', 'Opponent']"
      ]
     },
     "execution_count": 8,
     "metadata": {},
     "output_type": "execute_result"
    }
   ],
   "source": [
    "reals[-5:]"
   ]
  },
  {
   "cell_type": "code",
   "execution_count": 9,
   "id": "fb313cfe-67b7-47e0-81f6-f5bd052df890",
   "metadata": {},
   "outputs": [
    {
     "data": {
      "text/plain": [
       "['They seem to be talking to each other',\n",
       " 'None',\n",
       " 'Biker that falls down',\n",
       " 'They play together',\n",
       " 'Friends']"
      ]
     },
     "execution_count": 9,
     "metadata": {},
     "output_type": "execute_result"
    }
   ],
   "source": [
    "preds[-5:]"
   ]
  },
  {
   "cell_type": "code",
   "execution_count": 10,
   "id": "9b8ec160-69ab-4d93-bfd3-ea960f44eb51",
   "metadata": {},
   "outputs": [
    {
     "name": "stdout",
     "output_type": "stream",
     "text": [
      "Once upon a time, in a kingdom far, far away, there was a beautiful princess named Sophia. She had long, flowing hair as golden as the sun, and eyes that sparkled like the morning dew on a rose petal.\n",
      "\n",
      "Sophia lived in a grand castle, surrounded by lush gard\n",
      "Hello! You can call me Vicuna, and I was trained by Large Model Systems Organization (LMSYS) researchers as a language model.\n"
     ]
    }
   ],
   "source": [
    "import openai\n",
    "\n",
    "openai.api_key = \"EMPTY\"\n",
    "openai.base_url = \"http://localhost:8000/v1/\"\n",
    "\n",
    "model = \"vicuna-13b-v1.5\"\n",
    "prompt = \"Once upon a time\"\n",
    "\n",
    "# create a completion\n",
    "completion = openai.completions.create(model=model, prompt=prompt, max_tokens=64)\n",
    "# print the completion\n",
    "print(prompt + completion.choices[0].text)\n",
    "\n",
    "# create a chat completion\n",
    "completion = openai.chat.completions.create(\n",
    "  model=model,\n",
    "  messages=[{\"role\": \"user\", \"content\": \"Hello! What is your name?\"}]\n",
    ")\n",
    "# print the completion\n",
    "print(completion.choices[0].message.content)"
   ]
  },
  {
   "cell_type": "code",
   "execution_count": 12,
   "id": "30e80ae5-60de-46be-9d6e-463e2e0b750b",
   "metadata": {},
   "outputs": [
    {
     "name": "stdout",
     "output_type": "stream",
     "text": [
      "The history saving thread hit an unexpected error (OperationalError('attempt to write a readonly database')).History will not be written to the database.\n",
      "0\n",
      "Is the athlete wearing trousers No No\n",
      "None\n",
      "yes\n",
      "5.0\n",
      "100\n",
      "Is the athlete wearing shorts Yes Yes\n",
      "None\n",
      "yes\n",
      "5.0\n",
      "200\n",
      "How about the dance in the video Good looking The woman wearing a black dress is practicing ballet moves, making a cartwheel, and dancing with the birds on the tiles.\n",
      "None\n",
      "no\n",
      "1.5\n",
      "300\n",
      "How many people are playing games in the video 4 4\n",
      "None\n",
      "yes\n",
      "5\n",
      "400\n",
      "How many people are there in the video 2 1\n",
      "None\n",
      "no\n",
      "2.5\n",
      "500\n",
      "How many people are there in the video 1 1\n",
      "None\n",
      "yes\n",
      "5\n",
      "600\n",
      "How many women are there in the video 2 1\n",
      "None\n",
      "no\n",
      "0\n",
      "700\n",
      "Is the man holding the rope outdoors Yes Yes\n",
      "None\n",
      "yes\n",
      "5.0\n",
      "800\n",
      "Is the person in the video indoors Yes Yes\n",
      "None\n",
      "yes\n",
      "5.0\n",
      "900\n",
      "Does the person in blue have long hair No No\n",
      "None\n",
      "yes\n",
      "4.8\n",
      "1000\n",
      "Is the person in the video wearing a white clothes Yes Yes\n",
      "None\n",
      "yes\n",
      "5\n",
      "1100\n",
      "Is the woman in the video wearing a white dress Yes No\n",
      "None\n",
      "no\n",
      "2.7\n",
      "1200\n",
      "What is the person in the video doing Paint fingernails Painting nails\n",
      "None\n",
      "yes\n",
      "4.5\n",
      "1300\n",
      "What is the person in the video doing Make drink The man in the video is shown making cocktails. He holds up a variety of tools to the camera, mixes liquids in a shaker, and serves the final product in a martini glass.\n",
      "None\n",
      "yes\n",
      "4.5\n",
      "1400\n",
      "What is the person in black shorts doing Long jump Running\n",
      "None\n",
      "no\n",
      "2.0\n",
      "1500\n",
      "What is the athlete doing on the water Water polo Swimming\n",
      "None\n",
      "no\n",
      "2.5\n",
      "1600\n",
      "What is the person in white uniform doing Weave hair Braiding hair\n",
      "None\n",
      "no\n",
      "2.5\n",
      "1700\n",
      "What color of the clothes does the person with red hat wear White White\n",
      "None\n",
      "yes\n",
      "5\n",
      "1800\n",
      "What color are the pants of the person in red clothes Gray Gray\n",
      "None\n",
      "yes\n",
      "4.8\n",
      "1900\n",
      "What happened to the man in a sweater before falling down Squat Different caption\n",
      "None\n",
      "no\n",
      "2.5\n",
      "2000\n",
      "What's behind the field Stand People\n",
      "None\n",
      "no\n",
      "2.7\n",
      "2100\n",
      "What is in front of the person in a plaid shirt Beer Can\n",
      "None\n",
      "no\n",
      "3.2\n",
      "2200\n",
      "What is the chef doing Cooking noodles Cooking\n",
      "None\n",
      "yes\n",
      "5\n"
     ]
    },
    {
     "ename": "SyntaxError",
     "evalue": "invalid syntax (<unknown>, line 1)",
     "output_type": "error",
     "traceback": [
      "Traceback \u001b[0;36m(most recent call last)\u001b[0m:\n",
      "\u001b[0m  Cell \u001b[1;32mIn[12], line 45\u001b[0m\n    answers.append(ast.literal_eval(completion.choices[0].message.content)['pred'])\u001b[0m\n",
      "\u001b[0m  File \u001b[1;32m~/.mlspace/envs/video_vika/lib/python3.10/ast.py:64\u001b[0m in \u001b[1;35mliteral_eval\u001b[0m\n    node_or_string = parse(node_or_string.lstrip(\" \\t\"), mode='eval')\u001b[0m\n",
      "\u001b[0;36m  File \u001b[0;32m~/.mlspace/envs/video_vika/lib/python3.10/ast.py:50\u001b[0;36m in \u001b[0;35mparse\u001b[0;36m\n\u001b[0;31m    return compile(source, filename, mode, flags,\u001b[0;36m\n",
      "\u001b[0;36m  File \u001b[0;32m<unknown>:1\u001b[0;36m\u001b[0m\n\u001b[0;31m    {'pred': 'no','score': 1}.\u001b[0m\n\u001b[0m                             ^\u001b[0m\n\u001b[0;31mSyntaxError\u001b[0m\u001b[0;31m:\u001b[0m invalid syntax\n",
      "\nDuring handling of the above exception, another exception occurred:\n",
      "Traceback \u001b[0;36m(most recent call last)\u001b[0m:\n",
      "\u001b[0m  File \u001b[1;32m~/.mlspace/envs/video_vika/lib/python3.10/site-packages/IPython/core/interactiveshell.py:3577\u001b[0m in \u001b[1;35mrun_code\u001b[0m\n    exec(code_obj, self.user_global_ns, self.user_ns)\u001b[0m\n",
      "\u001b[0m  Cell \u001b[1;32mIn[12], line 48\u001b[0m\n    answers.append(ast.literal_eval(completion.choices[0].message.content.split(\"\\n\\nExplanation\")[0])['pred'])\u001b[0m\n",
      "\u001b[0m  File \u001b[1;32m~/.mlspace/envs/video_vika/lib/python3.10/ast.py:64\u001b[0m in \u001b[1;35mliteral_eval\u001b[0m\n    node_or_string = parse(node_or_string.lstrip(\" \\t\"), mode='eval')\u001b[0m\n",
      "\u001b[0;36m  File \u001b[0;32m~/.mlspace/envs/video_vika/lib/python3.10/ast.py:50\u001b[0;36m in \u001b[0;35mparse\u001b[0;36m\n\u001b[0;31m    return compile(source, filename, mode, flags,\u001b[0;36m\n",
      "\u001b[0;36m  File \u001b[0;32m<unknown>:1\u001b[0;36m\u001b[0m\n\u001b[0;31m    {'pred': 'no','score': 1}.\u001b[0m\n\u001b[0m                             ^\u001b[0m\n\u001b[0;31mSyntaxError\u001b[0m\u001b[0;31m:\u001b[0m invalid syntax\n"
     ]
    }
   ],
   "source": [
    "import ast\n",
    "\n",
    "answers = []\n",
    "scores = []\n",
    "for ind, elem in enumerate(preds):\n",
    "    question = questions[ind].split('?')[0]\n",
    "    answer = reals[ind]\n",
    "    pred = elem\n",
    "    \n",
    "    completion = openai.chat.completions.create(\n",
    "                    model=model,\n",
    "                    messages=[\n",
    "                        {\n",
    "                            \"role\": \"system\",\n",
    "                            \"content\": \n",
    "                                \"You are an intelligent chatbot designed for evaluating the correctness of generative outputs for question-answer pairs. \"\n",
    "                                \"Your task is to compare the predicted answer with the correct answer and determine if they match meaningfully. Here's how you can accomplish the task:\"\n",
    "                                \"------\"\n",
    "                                \"##INSTRUCTIONS: \"\n",
    "                                \"- Focus on the meaningful match between the predicted answer and the correct answer.\\n\"\n",
    "                                \"- Consider synonyms or paraphrases as valid matches.\\n\"\n",
    "                                \"- Evaluate the correctness of the prediction compared to the answer.\"\n",
    "                        },\n",
    "                        {\n",
    "                            \"role\": \"user\",\n",
    "                            \"content\":\n",
    "                                \"Please evaluate the following video-based question-answer pair:\\n\\n\"\n",
    "                                f\"Question: {question}\\n\"\n",
    "                                f\"Correct Answer: {answer}\\n\"\n",
    "                                f\"Predicted Answer: {pred}\\n\\n\"\n",
    "                                \"Provide your evaluation only as a yes/no and score, where the evaluation is 'yes' if the Predicted Answer and Correct Answer have the same meaning in the context of the Question, 'no' in other cases; the score is an integer value between 0 and 5, with 5 indicating the highest meaningful match. \"\n",
    "                                \"Please generate the response in the form of a Python dictionary string with keys 'pred' and 'score', where value of 'pred' is  a string of 'yes' or 'no' and value of 'score' is in INTEGER, not STRING.\"\n",
    "                                \"DO NOT PROVIDE ANY OTHER OUTPUT TEXT OR EXPLANATION. Only provide the Python dictionary string. \"\n",
    "                                \"For example, your response should look like this: {'pred': 'yes', 'score': 4.8}.\"\n",
    "                        }\n",
    "                    ]\n",
    "    )\n",
    "    # Convert response to a Python dictionary.\n",
    "    if (ind%100 ==0):\n",
    "        print (ind)\n",
    "        print (print (question, answer, pred))\n",
    "        print (ast.literal_eval(completion.choices[0].message.content)['pred'])\n",
    "        print (ast.literal_eval(completion.choices[0].message.content)['score'])\n",
    "    try:\n",
    "        answers.append(ast.literal_eval(completion.choices[0].message.content)['pred'])\n",
    "        scores.append(ast.literal_eval(completion.choices[0].message.content)['score'])\n",
    "    except:\n",
    "        answers.append(ast.literal_eval(completion.choices[0].message.content.split(\"\\n\\nExplanation\")[0])['pred'])\n",
    "        scores.append(ast.literal_eval(completion.choices[0].message.content.split(\"\\n\\nExplanation\")[0])['score'])"
   ]
  },
  {
   "cell_type": "code",
   "execution_count": null,
   "id": "acf9b8a3-51f2-4de0-9167-d5deb58c89fb",
   "metadata": {},
   "outputs": [],
   "source": [
    "import pickle\n",
    "with open('vicunia15B_actnet.pkl', 'wb') as f:\n",
    "        pickle.dump(answers, f)\n",
    "with open('vicunia15B_actnet.pkl', 'wb') as f:\n",
    "        pickle.dump(scores, f)"
   ]
  },
  {
   "cell_type": "code",
   "execution_count": 15,
   "id": "7d6dfca1-426b-41e4-a19f-db8d0b5c025b",
   "metadata": {},
   "outputs": [
    {
     "name": "stdout",
     "output_type": "stream",
     "text": [
      "The history saving thread hit an unexpected error (OperationalError('attempt to write a readonly database')).History will not be written to the database.\n"
     ]
    },
    {
     "data": {
      "text/plain": [
       "3.5898774080560423"
      ]
     },
     "execution_count": 15,
     "metadata": {},
     "output_type": "execute_result"
    }
   ],
   "source": [
    "import numpy as np\n",
    "np.mean(scores)"
   ]
  },
  {
   "cell_type": "code",
   "execution_count": 17,
   "id": "51a1f3b2-341d-412a-9a4d-9680437c182b",
   "metadata": {},
   "outputs": [
    {
     "data": {
      "text/plain": [
       "2855"
      ]
     },
     "execution_count": 17,
     "metadata": {},
     "output_type": "execute_result"
    }
   ],
   "source": [
    "len(answers)"
   ]
  },
  {
   "cell_type": "code",
   "execution_count": 16,
   "id": "67cef5cc-0a37-48a8-97c6-bc0f33c1873b",
   "metadata": {},
   "outputs": [
    {
     "data": {
      "text/plain": [
       "0.45884413309982486"
      ]
     },
     "execution_count": 16,
     "metadata": {},
     "output_type": "execute_result"
    }
   ],
   "source": [
    "yes_count = 0\n",
    "no_count = 0\n",
    "\n",
    "for elem in answers:\n",
    "   \n",
    "    # Computing accuracy\n",
    "    if \"yes\" in elem.lower():\n",
    "        yes_count += 1\n",
    "    elif \"no\" in elem.lower():\n",
    "        no_count += 1\n",
    "\n",
    "accuracy = yes_count / (yes_count + no_count)\n",
    "accuracy"
   ]
  },
  {
   "cell_type": "code",
   "execution_count": null,
   "id": "dfe443ea-7e2e-42a3-b3a0-2cad650dd53e",
   "metadata": {},
   "outputs": [],
   "source": []
  }
 ],
 "metadata": {
  "kernelspec": {
   "display_name": "Python [conda env:.mlspace-video_vika]",
   "language": "python",
   "name": "conda-env-.mlspace-video_vika-py"
  },
  "language_info": {
   "codemirror_mode": {
    "name": "ipython",
    "version": 3
   },
   "file_extension": ".py",
   "mimetype": "text/x-python",
   "name": "python",
   "nbconvert_exporter": "python",
   "pygments_lexer": "ipython3",
   "version": "3.10.15"
  }
 },
 "nbformat": 4,
 "nbformat_minor": 5
}

{
 "cells": [
  {
   "cell_type": "code",
   "execution_count": 1,
   "id": "6e6a3e3c-7533-4c45-b9c7-583b9a3f523d",
   "metadata": {},
   "outputs": [],
   "source": [
    "import torch\n",
    "from torch.utils.data import DataLoader\n",
    "from functools import partial\n",
    "import transformers\n",
    "from tqdm import tqdm\n",
    "import pickle"
   ]
  },
  {
   "cell_type": "code",
   "execution_count": 2,
   "id": "83722d64-982b-4566-aab9-765d8e595781",
   "metadata": {},
   "outputs": [
    {
     "name": "stdout",
     "output_type": "stream",
     "text": [
      "The history saving thread hit an unexpected error (OperationalError('attempt to write a readonly database')).History will not be written to the database.\n"
     ]
    }
   ],
   "source": [
    "import pickle\n",
    "with open('y_pred_msvdqa.pkl', 'rb') as f:\n",
    "    y_pred = pickle.load(f)\n",
    "\n",
    "with open('y_real_msvdqa.pkl', 'rb') as f:\n",
    "    y_real = pickle.load(f)"
   ]
  },
  {
   "cell_type": "code",
   "execution_count": 7,
   "id": "49a3149a-9d59-4c22-9d82-1bfa1d0da47a",
   "metadata": {},
   "outputs": [
    {
     "data": {
      "text/plain": [
       "800"
      ]
     },
     "execution_count": 7,
     "metadata": {},
     "output_type": "execute_result"
    }
   ],
   "source": [
    "len(y_pred)"
   ]
  },
  {
   "cell_type": "code",
   "execution_count": 6,
   "id": "533b6dfa-2824-4c03-8bc3-616404ab5790",
   "metadata": {},
   "outputs": [
    {
     "data": {
      "text/plain": [
       "['No',\n",
       " 'Yes',\n",
       " 'No',\n",
       " 'No',\n",
       " 'Yes',\n",
       " 'No',\n",
       " 'Yes',\n",
       " 'Yes',\n",
       " 'No',\n",
       " 'Yes',\n",
       " 'Yes',\n",
       " 'Yes',\n",
       " 'No',\n",
       " 'No',\n",
       " 'No',\n",
       " 'No',\n",
       " 'Yes',\n",
       " 'Yes',\n",
       " 'Yes',\n",
       " 'No',\n",
       " 'Yes',\n",
       " 'Yes',\n",
       " 'Yes',\n",
       " 'No',\n",
       " 'No',\n",
       " 'Yes',\n",
       " 'No',\n",
       " 'No',\n",
       " 'No',\n",
       " 'Yes']"
      ]
     },
     "execution_count": 6,
     "metadata": {},
     "output_type": "execute_result"
    }
   ],
   "source": [
    "y_real[:30]"
   ]
  },
  {
   "cell_type": "code",
   "execution_count": 1,
   "id": "f80dc201-8ad3-4daf-9253-9b773ffb9293",
   "metadata": {},
   "outputs": [
    {
     "name": "stdout",
     "output_type": "stream",
     "text": [
      "Please 'pip install apex'\n",
      "Please 'pip install apex'\n",
      "Please 'pip install apex'\n",
      "Please 'pip install apex'\n"
     ]
    }
   ],
   "source": [
    "import os\n",
    "import sys\n",
    "module_path = os.path.abspath(os.path.join('..'))\n",
    "if module_path not in sys.path:\n",
    "    sys.path.append(module_path)\n",
    "from models import build_model"
   ]
  },
  {
   "cell_type": "code",
   "execution_count": 3,
   "id": "23596298-fc7c-478a-a90b-23e67c8f6d1b",
   "metadata": {},
   "outputs": [
    {
     "name": "stdout",
     "output_type": "stream",
     "text": [
      "6415\n"
     ]
    }
   ],
   "source": [
    "import json\n",
    "\n",
    "with open('val_qa.json') as f:\n",
    "    dataset = json.load(f)\n",
    "    print(len(dataset))"
   ]
  },
  {
   "cell_type": "code",
   "execution_count": 4,
   "id": "309aac64-2653-44dc-b47a-64760f1515a6",
   "metadata": {},
   "outputs": [
    {
     "data": {
      "text/plain": [
       "{'answer': 'man',\n",
       " 'id': 30934,\n",
       " 'question': 'who pours a seasoning liquid from a plastic container over chicken pieces placed in a plastic pouch?',\n",
       " 'video_id': 1201}"
      ]
     },
     "execution_count": 4,
     "metadata": {},
     "output_type": "execute_result"
    }
   ],
   "source": [
    "dataset[1]"
   ]
  },
  {
   "cell_type": "code",
   "execution_count": 5,
   "id": "e47091f6-6bc9-48a2-9615-16706cd7d638",
   "metadata": {},
   "outputs": [],
   "source": [
    "from collections import defaultdict\n",
    "\n",
    "id2video_mapper = defaultdict()\n",
    "\n",
    "with open(\"youtube_mapping.txt\") as file:\n",
    "    lines = [line.rstrip() for line in file]\n",
    "\n",
    "for line in lines:\n",
    "    key, value = line.split()\n",
    "    value = value.split('vid')[1]\n",
    "    id2video_mapper[value] = key\n"
   ]
  },
  {
   "cell_type": "code",
   "execution_count": 6,
   "id": "081263bf-b56f-46d2-b5cc-371eed39f1f1",
   "metadata": {},
   "outputs": [],
   "source": [
    "\n",
    "class MSVDQaDataset(torch.utils.data.Dataset):\n",
    "\n",
    "    def __init__(self, module_path, dataset, mapper, task_type = 'qa', question_prompt = \" Answer the question using a single word or a short phrase with multiple words.\"):\n",
    "        \n",
    "        self.data_list = []\n",
    "        self.question_prompt = question_prompt\n",
    "\n",
    "        self.movie_dir = module_path\n",
    "\n",
    "        for elem in dataset:\n",
    "            full_video_path = module_path + '/eval/YouTubeClips' +'/' + mapper[str(elem['video_id'])] +\".avi\"\n",
    "            self.data_list.append({'full_video_path':full_video_path, 'question':elem['question'], 'answer':elem['answer']})\n",
    "            \n",
    "\n",
    "        \n",
    "    def __len__(self):\n",
    "        return len(self.data_list)\n",
    "\n",
    "    def __getitem__(self, idx):\n",
    "        data_item = self.data_list[idx]\n",
    "        video_path = data_item['full_video_path']\n",
    "        \n",
    "        if not os.path.exists(video_path):\n",
    "            print (video_path)\n",
    "            print(f\"Warning: Video file not found at {video_path}, skipping this item.\")\n",
    "            return None  \n",
    "    \n",
    "\n",
    "        question = data_item['question']\n",
    "        answer = data_item['answer']\n",
    "    \n",
    "        return {\n",
    "            'question': question + self.question_prompt,\n",
    "            'video_path': video_path,\n",
    "            #'pixel_values': pixel_values,\n",
    "            'answer': answer.capitalize(),\n",
    "        }\n",
    "    "
   ]
  },
  {
   "cell_type": "code",
   "execution_count": 7,
   "id": "d04eb3d5-ca74-4372-9341-276816df3ac6",
   "metadata": {},
   "outputs": [],
   "source": [
    "msvdq = MSVDQaDataset(module_path, dataset, id2video_mapper, task_type = 'qa') "
   ]
  },
  {
   "cell_type": "markdown",
   "id": "0197bfdb-efc6-4600-9ae8-047034cf1538",
   "metadata": {},
   "source": [
    "## Inference"
   ]
  },
  {
   "cell_type": "code",
   "execution_count": 8,
   "id": "84c657c4-25f7-4a08-9ee7-29670cfe4010",
   "metadata": {},
   "outputs": [
    {
     "name": "stdout",
     "output_type": "stream",
     "text": [
      "Loading Video LaVIT Model Weight from /home/jovyan/shares/SR004.nfs2/chekalina/LaVIT/VideoLaVIT/models/language_model_sft, model precision: bf16\n",
      "Not used {}\n"
     ]
    },
    {
     "data": {
      "application/vnd.jupyter.widget-view+json": {
       "model_id": "bac1749a60ad406a9d75ace864612b41",
       "version_major": 2,
       "version_minor": 0
      },
      "text/plain": [
       "Loading checkpoint shards:   0%|          | 0/4 [00:00<?, ?it/s]"
      ]
     },
     "metadata": {},
     "output_type": "display_data"
    },
    {
     "name": "stderr",
     "output_type": "stream",
     "text": [
      "Some weights of the model checkpoint at /home/jovyan/shares/SR004.nfs2/chekalina/LaVIT/VideoLaVIT/models/language_model_sft were not used when initializing VideoLaVITLlamaForCausalLM: ['model.motion_tokenizer.quantize.cluster_size', 'model.motion_tokenizer.quantize.embedding.embed_avg', 'model.motion_tokenizer.quantize.embedding.initted', 'model.motion_tokenizer.quantize.embedding.cluster_size']\n",
      "- This IS expected if you are initializing VideoLaVITLlamaForCausalLM from the checkpoint of a model trained on another task or with another architecture (e.g. initializing a BertForSequenceClassification model from a BertForPreTraining model).\n",
      "- This IS NOT expected if you are initializing VideoLaVITLlamaForCausalLM from the checkpoint of a model that you expect to be exactly identical (initializing a BertForSequenceClassification model from a BertForSequenceClassification model).\n"
     ]
    },
    {
     "name": "stdout",
     "output_type": "stream",
     "text": [
      "The Visual Vocab Size is 16384\n",
      "The llama tokenizer vocab size is 32000\n",
      "The maximal clip number is 16\n"
     ]
    }
   ],
   "source": [
    "import os\n",
    "import sys\n",
    "import torch\n",
    "import numpy as np\n",
    "import random\n",
    "module_path = os.path.abspath(os.path.join('..'))\n",
    "if module_path not in sys.path:\n",
    "    sys.path.append(module_path)\n",
    "from models import build_model\n",
    "\n",
    "model_path = \"/home/jovyan/shares/SR004.nfs2/chekalina/LaVIT/VideoLaVIT/models/language_model_sft\"#\"/home/jinyang06/models/VideoLaVIT-v1/language_model_sft\"\n",
    "model_dtype='bf16'\n",
    "\n",
    "max_video_clips = 16\n",
    "device_id = 0\n",
    "torch.cuda.set_device(device_id)\n",
    "device = torch.device('cuda')\n",
    "\n",
    "seed = 42\n",
    "#torch.manual_seed(seed)\n",
    "np.random.seed(seed)\n",
    "random.seed(seed)\n",
    "\n",
    "# For Multi-Modal Understanding\n",
    "runner = build_model(model_path=model_path, model_dtype=model_dtype, understanding=True, \n",
    "        device_id=device_id, use_xformers=False, max_video_clips=max_video_clips,)"
   ]
  },
  {
   "cell_type": "code",
   "execution_count": 9,
   "id": "7eaef305-f3d8-4560-aa4b-c7783d08ce2c",
   "metadata": {},
   "outputs": [
    {
     "name": "stderr",
     "output_type": "stream",
     "text": [
      "/home/jovyan/.mlspace/envs/video_vika/lib/python3.10/site-packages/torchvision/transforms/functional.py:1603: UserWarning: The default value of the antialias parameter of all the resizing transforms (Resize(), RandomResizedCrop(), etc.) will change from None to True in v0.17, in order to be consistent across the PIL and Tensor backends. To suppress this warning, directly pass antialias=True (recommended, future default), antialias=None (current default, which means False for Tensors and True for PIL), or antialias=False (only works on Tensors - PIL will still use antialiasing). This also applies if you are using the inference transforms from the models weights: update the call to weights.transforms(antialias=True).\n",
      "  warnings.warn(\n",
      "/home/jovyan/.mlspace/envs/video_vika/lib/python3.10/site-packages/transformers/generation/utils.py:1417: UserWarning: You have modified the pretrained model configuration to control generation. This is a deprecated strategy to control generation and will be removed soon, in a future version. Please use a generation configuration file (see https://huggingface.co/docs/transformers/main_classes/text_generation )\n",
      "  warnings.warn(\n"
     ]
    },
    {
     "name": "stdout",
     "output_type": "stream",
     "text": [
      "Man\n"
     ]
    }
   ],
   "source": [
    "video_path = '/home/jovyan/shares/SR004.nfs2/chekalina/LaVIT/VideoLaVIT/eval/YouTubeClips/bQJQGoJF7_k_162_169.avi'\n",
    "prompt = \"who pours marinade in a bag of chicken? Answer the question using a single word or phrase.\"\n",
    "\n",
    "output = runner({\"video\": video_path, \"text_input\": prompt}, length_penalty=1, \\\n",
    "        use_nucleus_sampling=True, num_beams=1, max_length=512, temperature=1.0)[0]\n",
    "print(output)"
   ]
  },
  {
   "cell_type": "code",
   "execution_count": 10,
   "id": "0e7b3e67-c5a4-4f09-b07f-69c66f34a5ed",
   "metadata": {},
   "outputs": [],
   "source": [
    "tokenizer = transformers.LlamaTokenizer.from_pretrained(model_path, use_fast=False, padding_side='left')\n",
    "tokenizer.pad_token = tokenizer.unk_token"
   ]
  },
  {
   "cell_type": "code",
   "execution_count": 11,
   "id": "2ab567f4-de77-4e0e-92d1-3165987be755",
   "metadata": {},
   "outputs": [
    {
     "name": "stdout",
     "output_type": "stream",
     "text": [
      "['who pours liquid from a plastic container into a ziploc bag containing meat pieces? Answer the question using a single word or a short phrase with multiple words.']\n",
      "['Someone']\n",
      "['/home/jovyan/shares/SR004.nfs2/chekalina/LaVIT/VideoLaVIT/eval/YouTubeClips/bQJQGoJF7_k_162_169.avi']\n",
      "['who pours a seasoning liquid from a plastic container over chicken pieces placed in a plastic pouch? Answer the question using a single word or a short phrase with multiple words.']\n",
      "['Man']\n",
      "['/home/jovyan/shares/SR004.nfs2/chekalina/LaVIT/VideoLaVIT/eval/YouTubeClips/bQJQGoJF7_k_162_169.avi']\n",
      "['who pours marinade in a bag of chicken? Answer the question using a single word or a short phrase with multiple words.']\n",
      "['Person']\n",
      "['/home/jovyan/shares/SR004.nfs2/chekalina/LaVIT/VideoLaVIT/eval/YouTubeClips/bQJQGoJF7_k_162_169.avi']\n"
     ]
    }
   ],
   "source": [
    "def collate_fn(batches, tokenizer):\n",
    "    \n",
    "    questions = [_['question'] for _ in batches]\n",
    "    video_path = [_['video_path'] for _ in batches]\n",
    "    answer = [_['answer'] for _ in batches]\n",
    "    \n",
    "    return questions, video_path, answer\n",
    "\n",
    "dataloader = torch.utils.data.DataLoader(\n",
    "        dataset=msvdq,\n",
    "        batch_size=1,\n",
    "        num_workers=1,\n",
    "        pin_memory=True,\n",
    "        drop_last=False,\n",
    "        collate_fn=partial(collate_fn, tokenizer=tokenizer)\n",
    "    )\n",
    "\n",
    "iterator = iter(dataloader)\n",
    "first_batch = next(iterator)\n",
    "\n",
    "\n",
    "question = first_batch[0]\n",
    "video_path = first_batch[1]\n",
    "answer = first_batch[2]\n",
    "\n",
    "\n",
    "print(question)\n",
    "print(answer)\n",
    "print(video_path)\n",
    "\n",
    "\n",
    "first_batch = next(iterator)\n",
    "\n",
    "\n",
    "question = first_batch[0]\n",
    "video_path = first_batch[1]\n",
    "answer = first_batch[2]\n",
    "\n",
    "\n",
    "print(question)\n",
    "print(answer)\n",
    "print(video_path)\n",
    "\n",
    "\n",
    "first_batch = next(iterator)\n",
    "\n",
    "\n",
    "question = first_batch[0]\n",
    "video_path = first_batch[1]\n",
    "answer = first_batch[2]\n",
    "\n",
    "\n",
    "print(question)\n",
    "print(answer)\n",
    "print(video_path)\n"
   ]
  },
  {
   "cell_type": "code",
   "execution_count": null,
   "id": "45d54183-de3a-4985-ab27-e8be2dbf5f88",
   "metadata": {},
   "outputs": [
    {
     "name": "stderr",
     "output_type": "stream",
     "text": [
      "Epoch 1:   2%|▏         | 99/6415 [04:26<2:27:03,  1.40s/it]"
     ]
    },
    {
     "name": "stdout",
     "output_type": "stream",
     "text": [
      "====================question====================\n",
      "who made a great catch? Answer the question using a single word or a short phrase with multiple words.\n",
      "====================output====================\n",
      "Man\n",
      "====================real answers====================\n",
      "Baseball\n"
     ]
    },
    {
     "name": "stderr",
     "output_type": "stream",
     "text": [
      "Epoch 1:  16%|█▌        | 999/6415 [39:59<2:57:50,  1.97s/it]"
     ]
    },
    {
     "name": "stdout",
     "output_type": "stream",
     "text": [
      "====================question====================\n",
      "who is stroking a baby beaver? Answer the question using a single word or a short phrase with multiple words.\n",
      "====================output====================\n",
      "Man\n",
      "====================real answers====================\n",
      "Woman\n"
     ]
    },
    {
     "name": "stderr",
     "output_type": "stream",
     "text": [
      "Epoch 1:  17%|█▋        | 1099/6415 [42:42<2:04:05,  1.40s/it]"
     ]
    },
    {
     "name": "stdout",
     "output_type": "stream",
     "text": [
      "====================question====================\n",
      "what is a male flight attendant closing the door of? Answer the question using a single word or a short phrase with multiple words.\n",
      "====================output====================\n",
      "Bathroom\n",
      "====================real answers====================\n",
      "Plane\n"
     ]
    },
    {
     "name": "stderr",
     "output_type": "stream",
     "text": [
      "Epoch 1:  19%|█▊        | 1199/6415 [46:53<3:45:56,  2.60s/it] "
     ]
    },
    {
     "name": "stdout",
     "output_type": "stream",
     "text": [
      "====================question====================\n",
      "what is eating a trail of food? Answer the question using a single word or a short phrase with multiple words.\n",
      "====================output====================\n",
      "Hamster\n",
      "====================real answers====================\n",
      "Hamster\n"
     ]
    },
    {
     "name": "stderr",
     "output_type": "stream",
     "text": [
      "Epoch 1:  20%|██        | 1299/6415 [50:21<3:20:52,  2.36s/it]"
     ]
    },
    {
     "name": "stdout",
     "output_type": "stream",
     "text": [
      "====================question====================\n",
      "who plays the piano? Answer the question using a single word or a short phrase with multiple words.\n",
      "====================output====================\n",
      "Boy\n",
      "====================real answers====================\n",
      "Man\n"
     ]
    },
    {
     "name": "stderr",
     "output_type": "stream",
     "text": [
      "Epoch 1:  22%|██▏       | 1399/6415 [55:16<6:40:03,  4.79s/it]"
     ]
    },
    {
     "name": "stdout",
     "output_type": "stream",
     "text": [
      "====================question====================\n",
      "what is a fox walking slowly in? Answer the question using a single word or a short phrase with multiple words.\n",
      "====================output====================\n",
      "Snow\n",
      "====================real answers====================\n",
      "Ice\n"
     ]
    },
    {
     "name": "stderr",
     "output_type": "stream",
     "text": [
      "Epoch 1:  23%|██▎       | 1499/6415 [59:24<2:30:23,  1.84s/it]"
     ]
    },
    {
     "name": "stdout",
     "output_type": "stream",
     "text": [
      "====================question====================\n",
      "what is a kid playing? Answer the question using a single word or a short phrase with multiple words.\n",
      "====================output====================\n",
      "Flute\n",
      "====================real answers====================\n",
      "Instrument\n"
     ]
    },
    {
     "name": "stderr",
     "output_type": "stream",
     "text": [
      "Epoch 1:  25%|██▍       | 1599/6415 [1:01:45<2:10:22,  1.62s/it]"
     ]
    },
    {
     "name": "stdout",
     "output_type": "stream",
     "text": [
      "====================question====================\n",
      "what is a person on a wooded path? Answer the question using a single word or a short phrase with multiple words.\n",
      "====================output====================\n",
      "Unknown\n",
      "====================real answers====================\n",
      "Jogging\n"
     ]
    },
    {
     "name": "stderr",
     "output_type": "stream",
     "text": [
      "Epoch 1:  26%|██▋       | 1699/6415 [1:05:10<1:58:40,  1.51s/it]"
     ]
    },
    {
     "name": "stdout",
     "output_type": "stream",
     "text": [
      "====================question====================\n",
      "what does a man push another man into? Answer the question using a single word or a short phrase with multiple words.\n",
      "====================output====================\n",
      "Yes\n",
      "====================real answers====================\n",
      "Ocean\n"
     ]
    },
    {
     "name": "stderr",
     "output_type": "stream",
     "text": [
      "Epoch 1:  28%|██▊       | 1799/6415 [1:08:23<2:21:06,  1.83s/it]"
     ]
    },
    {
     "name": "stdout",
     "output_type": "stream",
     "text": [
      "====================question====================\n",
      "what is a person slicing? Answer the question using a single word or a short phrase with multiple words.\n",
      "====================output====================\n",
      "Tomato\n",
      "====================real answers====================\n",
      "Tomato\n"
     ]
    },
    {
     "name": "stderr",
     "output_type": "stream",
     "text": [
      "Epoch 1:  30%|██▉       | 1899/6415 [1:13:08<1:34:01,  1.25s/it]"
     ]
    },
    {
     "name": "stdout",
     "output_type": "stream",
     "text": [
      "====================question====================\n",
      "what is the person making a new file folder on? Answer the question using a single word or a short phrase with multiple words.\n",
      "====================output====================\n",
      "Computer\n",
      "====================real answers====================\n",
      "Computer\n"
     ]
    },
    {
     "name": "stderr",
     "output_type": "stream",
     "text": [
      "Epoch 1:  31%|███       | 1999/6415 [1:16:36<3:06:26,  2.53s/it]"
     ]
    },
    {
     "name": "stdout",
     "output_type": "stream",
     "text": [
      "====================question====================\n",
      "who pours a milkshake into two glasses? Answer the question using a single word or a short phrase with multiple words.\n",
      "====================output====================\n",
      "Boy\n",
      "====================real answers====================\n",
      "Someone\n"
     ]
    },
    {
     "name": "stderr",
     "output_type": "stream",
     "text": [
      "Epoch 1:  33%|███▎      | 2099/6415 [1:19:56<1:20:41,  1.12s/it]"
     ]
    },
    {
     "name": "stdout",
     "output_type": "stream",
     "text": [
      "====================question====================\n",
      "what is a man mixing in a bowl? Answer the question using a single word or a short phrase with multiple words.\n",
      "====================output====================\n",
      "Flour\n",
      "====================real answers====================\n",
      "Dough\n"
     ]
    },
    {
     "name": "stderr",
     "output_type": "stream",
     "text": [
      "Epoch 1:  34%|███▍      | 2199/6415 [1:23:25<2:37:32,  2.24s/it]"
     ]
    },
    {
     "name": "stdout",
     "output_type": "stream",
     "text": [
      "====================question====================\n",
      "who is making a cup of coffee? Answer the question using a single word or a short phrase with multiple words.\n",
      "====================output====================\n",
      "Woman\n",
      "====================real answers====================\n",
      "Woman\n"
     ]
    },
    {
     "name": "stderr",
     "output_type": "stream",
     "text": [
      "Epoch 1:  36%|███▌      | 2299/6415 [1:29:33<6:24:37,  5.61s/it]"
     ]
    },
    {
     "name": "stdout",
     "output_type": "stream",
     "text": [
      "====================question====================\n",
      "who used a stick to pound a tool into a block of wood? Answer the question using a single word or a short phrase with multiple words.\n",
      "====================output====================\n",
      "Man\n",
      "====================real answers====================\n",
      "Man\n"
     ]
    },
    {
     "name": "stderr",
     "output_type": "stream",
     "text": [
      "Epoch 1:  37%|███▋      | 2399/6415 [1:35:41<2:22:26,  2.13s/it] "
     ]
    },
    {
     "name": "stdout",
     "output_type": "stream",
     "text": [
      "====================question====================\n",
      "who is a bunny playing with? Answer the question using a single word or a short phrase with multiple words.\n",
      "====================output====================\n",
      "People\n",
      "====================real answers====================\n",
      "Person\n"
     ]
    },
    {
     "name": "stderr",
     "output_type": "stream",
     "text": [
      "Epoch 1:  39%|███▉      | 2499/6415 [1:40:30<3:51:22,  3.54s/it]"
     ]
    },
    {
     "name": "stdout",
     "output_type": "stream",
     "text": [
      "====================question====================\n",
      "who is playing piano and singing? Answer the question using a single word or a short phrase with multiple words.\n",
      "====================output====================\n",
      "Child\n",
      "====================real answers====================\n",
      "Boy\n"
     ]
    },
    {
     "name": "stderr",
     "output_type": "stream",
     "text": [
      "Epoch 1:  41%|████      | 2599/6415 [1:45:30<2:06:20,  1.99s/it]"
     ]
    },
    {
     "name": "stdout",
     "output_type": "stream",
     "text": [
      "====================question====================\n",
      "who rode his motorcycle through the water at the shore? Answer the question using a single word or a short phrase with multiple words.\n",
      "====================output====================\n",
      "Man\n",
      "====================real answers====================\n",
      "Man\n"
     ]
    },
    {
     "name": "stderr",
     "output_type": "stream",
     "text": [
      "Epoch 1:  42%|████▏     | 2699/6415 [1:49:54<2:12:36,  2.14s/it]"
     ]
    },
    {
     "name": "stdout",
     "output_type": "stream",
     "text": [
      "====================question====================\n",
      "what is a cat doing? Answer the question using a single word or a short phrase with multiple words.\n",
      "====================output====================\n",
      "Sleeping\n",
      "====================real answers====================\n",
      "Jump\n"
     ]
    },
    {
     "name": "stderr",
     "output_type": "stream",
     "text": [
      "Epoch 1:  44%|████▎     | 2799/6415 [1:55:06<4:06:16,  4.09s/it]"
     ]
    },
    {
     "name": "stdout",
     "output_type": "stream",
     "text": [
      "====================question====================\n",
      "who drys off a woman? Answer the question using a single word or a short phrase with multiple words.\n",
      "====================output====================\n",
      "Man\n",
      "====================real answers====================\n",
      "Man\n"
     ]
    },
    {
     "name": "stderr",
     "output_type": "stream",
     "text": [
      "Epoch 1:  45%|████▌     | 2899/6415 [2:01:55<1:15:58,  1.30s/it]"
     ]
    },
    {
     "name": "stdout",
     "output_type": "stream",
     "text": [
      "====================question====================\n",
      "who is cleaning a garden? Answer the question using a single word or a short phrase with multiple words.\n",
      "====================output====================\n",
      "Woman\n",
      "====================real answers====================\n",
      "Woman\n"
     ]
    },
    {
     "name": "stderr",
     "output_type": "stream",
     "text": [
      "Epoch 1:  47%|████▋     | 2999/6415 [2:05:08<2:42:23,  2.85s/it]"
     ]
    },
    {
     "name": "stdout",
     "output_type": "stream",
     "text": [
      "====================question====================\n",
      "who does aerobic exercise? Answer the question using a single word or a short phrase with multiple words.\n",
      "====================output====================\n",
      "Lady\n",
      "====================real answers====================\n",
      "Woman\n"
     ]
    },
    {
     "name": "stderr",
     "output_type": "stream",
     "text": [
      "Epoch 1:  48%|████▊     | 3099/6415 [2:07:43<1:02:52,  1.14s/it]"
     ]
    },
    {
     "name": "stdout",
     "output_type": "stream",
     "text": [
      "====================question====================\n",
      "who are singing? Answer the question using a single word or a short phrase with multiple words.\n",
      "====================output====================\n",
      "People\n",
      "====================real answers====================\n",
      "Church\n"
     ]
    },
    {
     "name": "stderr",
     "output_type": "stream",
     "text": [
      "Epoch 1:  50%|████▉     | 3199/6415 [2:12:39<2:22:09,  2.65s/it]"
     ]
    },
    {
     "name": "stdout",
     "output_type": "stream",
     "text": [
      "====================question====================\n",
      "what is playing with the dog? Answer the question using a single word or a short phrase with multiple words.\n",
      "====================output====================\n",
      "Cat\n",
      "====================real answers====================\n",
      "Duck\n"
     ]
    },
    {
     "name": "stderr",
     "output_type": "stream",
     "text": [
      "Epoch 1:  51%|█████▏    | 3299/6415 [2:16:14<1:07:06,  1.29s/it]"
     ]
    },
    {
     "name": "stdout",
     "output_type": "stream",
     "text": [
      "====================question====================\n",
      "who is making a ball of dough? Answer the question using a single word or a short phrase with multiple words.\n",
      "====================output====================\n",
      "You\n",
      "====================real answers====================\n",
      "Person\n"
     ]
    },
    {
     "name": "stderr",
     "output_type": "stream",
     "text": [
      "Epoch 1:  53%|█████▎    | 3399/6415 [2:19:24<1:52:16,  2.23s/it]"
     ]
    },
    {
     "name": "stdout",
     "output_type": "stream",
     "text": [
      "====================question====================\n",
      "what do two guys play? Answer the question using a single word or a short phrase with multiple words.\n",
      "====================output====================\n",
      "Table tennis\n",
      "====================real answers====================\n",
      "Tenni\n"
     ]
    },
    {
     "name": "stderr",
     "output_type": "stream",
     "text": [
      "Epoch 1:  55%|█████▍    | 3499/6415 [2:27:15<8:38:50, 10.68s/it]"
     ]
    },
    {
     "name": "stdout",
     "output_type": "stream",
     "text": [
      "====================question====================\n",
      "what is a man doing? Answer the question using a single word or a short phrase with multiple words.\n",
      "====================output====================\n",
      "Grating lemon\n",
      "====================real answers====================\n",
      "Squeeze\n"
     ]
    },
    {
     "name": "stderr",
     "output_type": "stream",
     "text": [
      "Epoch 1:  56%|█████▌    | 3599/6415 [2:31:58<1:28:04,  1.88s/it]"
     ]
    },
    {
     "name": "stdout",
     "output_type": "stream",
     "text": [
      "====================question====================\n",
      "what are ants eating? Answer the question using a single word or a short phrase with multiple words.\n",
      "====================output====================\n",
      "Fruit\n",
      "====================real answers====================\n",
      "Food\n"
     ]
    },
    {
     "name": "stderr",
     "output_type": "stream",
     "text": [
      "Epoch 1:  58%|█████▊    | 3699/6415 [2:36:29<2:00:14,  2.66s/it]"
     ]
    },
    {
     "name": "stdout",
     "output_type": "stream",
     "text": [
      "====================question====================\n",
      "who takes a piece of pepperoni pizza out of a pizza box? Answer the question using a single word or a short phrase with multiple words.\n",
      "====================output====================\n",
      "No one\n",
      "====================real answers====================\n",
      "Man\n"
     ]
    },
    {
     "name": "stderr",
     "output_type": "stream",
     "text": [
      "Epoch 1:  59%|█████▉    | 3799/6415 [2:41:18<1:19:16,  1.82s/it]"
     ]
    },
    {
     "name": "stdout",
     "output_type": "stream",
     "text": [
      "====================question====================\n",
      "what is the man driving? Answer the question using a single word or a short phrase with multiple words.\n",
      "====================output====================\n",
      "Car\n",
      "====================real answers====================\n",
      "Car\n"
     ]
    },
    {
     "name": "stderr",
     "output_type": "stream",
     "text": [
      "Epoch 1:  61%|██████    | 3899/6415 [2:44:24<1:37:59,  2.34s/it]"
     ]
    },
    {
     "name": "stdout",
     "output_type": "stream",
     "text": [
      "====================question====================\n",
      "what is a woman poking a potato with? Answer the question using a single word or a short phrase with multiple words.\n",
      "====================output====================\n",
      "A knife\n",
      "====================real answers====================\n",
      "Fork\n"
     ]
    },
    {
     "name": "stderr",
     "output_type": "stream",
     "text": [
      "Epoch 1:  62%|██████▏   | 3999/6415 [2:49:39<1:19:47,  1.98s/it]"
     ]
    },
    {
     "name": "stdout",
     "output_type": "stream",
     "text": [
      "====================question====================\n",
      "what is the boy doing? Answer the question using a single word or a short phrase with multiple words.\n",
      "====================output====================\n",
      "He is playing a violin\n",
      "====================real answers====================\n",
      "Play\n"
     ]
    },
    {
     "name": "stderr",
     "output_type": "stream",
     "text": [
      "Epoch 1:  64%|██████▍   | 4099/6415 [2:52:56<1:32:24,  2.39s/it]"
     ]
    },
    {
     "name": "stdout",
     "output_type": "stream",
     "text": [
      "====================question====================\n",
      "what is a car spinning in? Answer the question using a single word or a short phrase with multiple words.\n",
      "====================output====================\n",
      "Smoke\n",
      "====================real answers====================\n",
      "Lot\n"
     ]
    },
    {
     "name": "stderr",
     "output_type": "stream",
     "text": [
      "Epoch 1:  65%|██████▌   | 4199/6415 [2:56:06<38:17,  1.04s/it]  "
     ]
    },
    {
     "name": "stdout",
     "output_type": "stream",
     "text": [
      "====================question====================\n",
      "what is a man doing? Answer the question using a single word or a short phrase with multiple words.\n",
      "====================output====================\n",
      "He is going to heat his soup in microwave\n",
      "====================real answers====================\n",
      "Use\n"
     ]
    },
    {
     "name": "stderr",
     "output_type": "stream",
     "text": [
      "Epoch 1:  67%|██████▋   | 4299/6415 [2:58:49<53:03,  1.50s/it]  "
     ]
    },
    {
     "name": "stdout",
     "output_type": "stream",
     "text": [
      "====================question====================\n",
      "what are people doing? Answer the question using a single word or a short phrase with multiple words.\n",
      "====================output====================\n",
      "People are spinning their bodies rapidly. The women are performing a type of dance with a rod, while the men are dancing around them.\n",
      "====================real answers====================\n",
      "Dance\n"
     ]
    },
    {
     "name": "stderr",
     "output_type": "stream",
     "text": [
      "Epoch 1:  69%|██████▊   | 4399/6415 [3:02:17<1:32:41,  2.76s/it]"
     ]
    },
    {
     "name": "stdout",
     "output_type": "stream",
     "text": [
      "====================question====================\n",
      "what is a man placing in a cup containing tea and a woman? Answer the question using a single word or a short phrase with multiple words.\n",
      "====================output====================\n",
      "Sugar\n",
      "====================real answers====================\n",
      "Sugar\n"
     ]
    },
    {
     "name": "stderr",
     "output_type": "stream",
     "text": [
      "Epoch 1:  70%|███████   | 4499/6415 [3:05:26<56:06,  1.76s/it]  "
     ]
    },
    {
     "name": "stdout",
     "output_type": "stream",
     "text": [
      "====================question====================\n",
      "who is pouring olive oil into a pan? Answer the question using a single word or a short phrase with multiple words.\n",
      "====================output====================\n",
      "Man\n",
      "====================real answers====================\n",
      "Someone\n"
     ]
    },
    {
     "name": "stderr",
     "output_type": "stream",
     "text": [
      "Epoch 1:  72%|███████▏  | 4599/6415 [3:08:11<1:40:40,  3.33s/it]"
     ]
    },
    {
     "name": "stdout",
     "output_type": "stream",
     "text": [
      "====================question====================\n",
      "what is the cook doing? Answer the question using a single word or a short phrase with multiple words.\n",
      "====================output====================\n",
      "The video shows the cook pouring a brown liquid into a small black pot with food in it and then covering it.\n",
      "====================real answers====================\n",
      "Pmy\n"
     ]
    },
    {
     "name": "stderr",
     "output_type": "stream",
     "text": [
      "Epoch 1:  73%|███████▎  | 4699/6415 [3:11:21<1:02:12,  2.18s/it]"
     ]
    },
    {
     "name": "stdout",
     "output_type": "stream",
     "text": [
      "====================question====================\n",
      "who is removing food from a pot? Answer the question using a single word or a short phrase with multiple words.\n",
      "====================output====================\n",
      "Woman\n",
      "====================real answers====================\n",
      "Man\n"
     ]
    },
    {
     "name": "stderr",
     "output_type": "stream",
     "text": [
      "Epoch 1:  75%|███████▍  | 4799/6415 [3:15:24<58:18,  2.16s/it]  "
     ]
    },
    {
     "name": "stdout",
     "output_type": "stream",
     "text": [
      "====================question====================\n",
      "what is a woman seated by a lake pulled at by a black gloved hand? Answer the question using a single word or a short phrase with multiple words.\n",
      "====================output====================\n",
      "Grabbed\n",
      "====================real answers====================\n",
      "Ankle\n"
     ]
    },
    {
     "name": "stderr",
     "output_type": "stream",
     "text": [
      "Epoch 1:  76%|███████▋  | 4899/6415 [3:19:00<1:12:45,  2.88s/it]"
     ]
    },
    {
     "name": "stdout",
     "output_type": "stream",
     "text": [
      "====================question====================\n",
      "what is karate kicking a person? Answer the question using a single word or a short phrase with multiple words.\n",
      "====================output====================\n",
      "Karate kicking is done with one leg and a swift movement, using body muscles for power and accuracy, and it's usually done in self-defense in combat or martial arts settings. In the video, we can see the man kicks the man lying on the floor, which is done for self defense by the person who is on the ground facing down.\n",
      "====================real answers====================\n",
      "Monkey\n"
     ]
    },
    {
     "name": "stderr",
     "output_type": "stream",
     "text": [
      "Epoch 1:  78%|███████▊  | 4999/6415 [3:24:44<37:20,  1.58s/it]  "
     ]
    },
    {
     "name": "stdout",
     "output_type": "stream",
     "text": [
      "====================question====================\n",
      "who is washing his pet rat? Answer the question using a single word or a short phrase with multiple words.\n",
      "====================output====================\n",
      "Man\n",
      "====================real answers====================\n",
      "Person\n"
     ]
    },
    {
     "name": "stderr",
     "output_type": "stream",
     "text": [
      "Epoch 1:  79%|███████▉  | 5099/6415 [3:27:27<53:56,  2.46s/it]  "
     ]
    },
    {
     "name": "stdout",
     "output_type": "stream",
     "text": [
      "====================question====================\n",
      "what does a man play? Answer the question using a single word or a short phrase with multiple words.\n",
      "====================output====================\n",
      "Piano\n",
      "====================real answers====================\n",
      "Keyboard\n"
     ]
    },
    {
     "name": "stderr",
     "output_type": "stream",
     "text": [
      "Epoch 1:  81%|████████  | 5199/6415 [3:30:58<31:30,  1.56s/it]  "
     ]
    },
    {
     "name": "stdout",
     "output_type": "stream",
     "text": [
      "====================question====================\n",
      "what is a man playing while seated? Answer the question using a single word or a short phrase with multiple words.\n",
      "====================output====================\n",
      "Guitar\n",
      "====================real answers====================\n",
      "Guitar\n"
     ]
    },
    {
     "name": "stderr",
     "output_type": "stream",
     "text": [
      "Epoch 1:  83%|████████▎ | 5299/6415 [3:34:35<35:18,  1.90s/it]  "
     ]
    },
    {
     "name": "stdout",
     "output_type": "stream",
     "text": [
      "====================question====================\n",
      "what are two players playing? Answer the question using a single word or a short phrase with multiple words.\n",
      "====================output====================\n",
      "Ping pong\n",
      "====================real answers====================\n",
      "Tenni\n"
     ]
    },
    {
     "name": "stderr",
     "output_type": "stream",
     "text": [
      "Epoch 1:  84%|████████▍ | 5399/6415 [3:39:21<34:18,  2.03s/it]  "
     ]
    },
    {
     "name": "stdout",
     "output_type": "stream",
     "text": [
      "====================question====================\n",
      "what are two men doing? Answer the question using a single word or a short phrase with multiple words.\n",
      "====================output====================\n",
      "Fighting\n",
      "====================real answers====================\n",
      "Struggle\n"
     ]
    },
    {
     "name": "stderr",
     "output_type": "stream",
     "text": [
      "Epoch 1:  86%|████████▌ | 5499/6415 [3:41:50<31:46,  2.08s/it]"
     ]
    },
    {
     "name": "stdout",
     "output_type": "stream",
     "text": [
      "====================question====================\n",
      "who plays with a plastic tea set? Answer the question using a single word or a short phrase with multiple words.\n",
      "====================output====================\n",
      "Toddler\n",
      "====================real answers====================\n",
      "Toddler\n"
     ]
    },
    {
     "name": "stderr",
     "output_type": "stream",
     "text": [
      "Epoch 1:  87%|████████▋ | 5599/6415 [3:43:54<13:11,  1.03it/s]"
     ]
    },
    {
     "name": "stdout",
     "output_type": "stream",
     "text": [
      "====================question====================\n",
      "what is someone doing? Answer the question using a single word or a short phrase with multiple words.\n",
      "====================output====================\n",
      "There are two people, one person is petting a tabby cat that is laying on their lap and another person is gently petting the cat's head.\n",
      "====================real answers====================\n",
      "Pet\n"
     ]
    },
    {
     "name": "stderr",
     "output_type": "stream",
     "text": [
      "Epoch 1:  89%|████████▉ | 5699/6415 [3:47:26<35:40,  2.99s/it]"
     ]
    },
    {
     "name": "stdout",
     "output_type": "stream",
     "text": [
      "====================question====================\n",
      "what is a man spooning onto a tray? Answer the question using a single word or a short phrase with multiple words.\n",
      "====================output====================\n",
      "Pancake\n",
      "====================real answers====================\n",
      "Pancake\n"
     ]
    },
    {
     "name": "stderr",
     "output_type": "stream",
     "text": [
      "Epoch 1:  90%|█████████ | 5799/6415 [3:50:30<10:14,  1.00it/s]"
     ]
    },
    {
     "name": "stdout",
     "output_type": "stream",
     "text": [
      "====================question====================\n",
      "who is dancing outside? Answer the question using a single word or a short phrase with multiple words.\n",
      "====================output====================\n",
      "Girl\n",
      "====================real answers====================\n",
      "Woman\n"
     ]
    },
    {
     "name": "stderr",
     "output_type": "stream",
     "text": [
      "Epoch 1:  92%|█████████▏| 5899/6415 [3:52:32<06:57,  1.24it/s]"
     ]
    },
    {
     "name": "stdout",
     "output_type": "stream",
     "text": [
      "====================question====================\n",
      "what is someone doing? Answer the question using a single word or a short phrase with multiple words.\n",
      "====================output====================\n",
      "Cutting\n",
      "====================real answers====================\n",
      "Cut\n"
     ]
    },
    {
     "name": "stderr",
     "output_type": "stream",
     "text": [
      "Epoch 1:  95%|█████████▌| 6099/6415 [3:56:42<13:34,  2.58s/it]"
     ]
    },
    {
     "name": "stdout",
     "output_type": "stream",
     "text": [
      "====================question====================\n",
      "what is someone kneeding? Answer the question using a single word or a short phrase with multiple words.\n",
      "====================output====================\n",
      "Dough\n",
      "====================real answers====================\n",
      "Dough\n"
     ]
    },
    {
     "name": "stderr",
     "output_type": "stream",
     "text": [
      "Epoch 1:  97%|█████████▋| 6199/6415 [3:58:36<02:52,  1.25it/s]"
     ]
    },
    {
     "name": "stdout",
     "output_type": "stream",
     "text": [
      "====================question====================\n",
      "what does a man cut a chicken with? Answer the question using a single word or a short phrase with multiple words.\n",
      "====================output====================\n",
      "Gun\n",
      "====================real answers====================\n",
      "Axe\n"
     ]
    },
    {
     "name": "stderr",
     "output_type": "stream",
     "text": [
      "Epoch 1:  98%|█████████▊| 6299/6415 [4:00:39<01:48,  1.07it/s]"
     ]
    },
    {
     "name": "stdout",
     "output_type": "stream",
     "text": [
      "====================question====================\n",
      "what is putting a lizard into a box? Answer the question using a single word or a short phrase with multiple words.\n",
      "====================output====================\n",
      "Person\n",
      "====================real answers====================\n",
      "Someone\n"
     ]
    },
    {
     "name": "stderr",
     "output_type": "stream",
     "text": [
      "Epoch 1: 100%|█████████▉| 6399/6415 [4:03:05<00:17,  1.08s/it]"
     ]
    },
    {
     "name": "stdout",
     "output_type": "stream",
     "text": [
      "====================question====================\n",
      "what is a man sliding across with a shopping cart? Answer the question using a single word or a short phrase with multiple words.\n",
      "====================output====================\n",
      "No idea\n",
      "====================real answers====================\n",
      "Floor\n"
     ]
    },
    {
     "name": "stderr",
     "output_type": "stream",
     "text": [
      "Epoch 1: 100%|██████████| 6415/6415 [4:03:26<00:00,  2.28s/it]\n"
     ]
    }
   ],
   "source": [
    "y_pred = []\n",
    "y_real = []\n",
    "\n",
    "progress_bar = tqdm(\n",
    "        dataloader, total=len(dataloader), desc=f\"Epoch 1\"\n",
    "    )\n",
    "\n",
    "for step, batch in enumerate(progress_bar, start=1):\n",
    "    question = batch[0]\n",
    "    video_path = batch[1]\n",
    "    answer = batch[2]\n",
    "\n",
    "    # print(pixel_values.size())\n",
    "    # print(question)\n",
    "    # print(answer)\n",
    "    # print(num_patches_list)\n",
    "    # print(task_type)\n",
    "    \n",
    "    # with autocast():\n",
    "        # 执行推理\n",
    "    outputs = runner({\"video\": video_path[0], \"text_input\": question[0]}, length_penalty=1, \\\n",
    "        use_nucleus_sampling=True, num_beams=1, max_length=512, temperature=1.0)[0]\n",
    "\n",
    "    y_pred.append(outputs.strip())\n",
    "    y_real.append(answer[0].strip())\n",
    "    if (step%100 == 0):\n",
    "        with open('y_pred_msvdqa.pkl', 'wb') as f:\n",
    "            pickle.dump(y_pred, f)\n",
    "        with open('y_real_msvdqa.pkl', 'wb') as f:\n",
    "            pickle.dump(y_real, f)\n",
    "        print(\"=\"*20 + \"question\" + \"=\"*20)\n",
    "        print (question[0])\n",
    "        print(\"=\"*20 + \"output\" + \"=\"*20)\n",
    "        print(outputs)\n",
    "        print(\"=\"*20 + \"real answers\" + \"=\"*20)\n",
    "        print(answer[0], flush = True)"
   ]
  },
  {
   "cell_type": "code",
   "execution_count": 13,
   "id": "5fe21558-6b7f-43ba-a4bb-9739e3544249",
   "metadata": {},
   "outputs": [
    {
     "data": {
      "text/plain": [
       "['Man',\n",
       " 'Guy',\n",
       " 'Man',\n",
       " 'Chef',\n",
       " 'Guy',\n",
       " 'Man',\n",
       " 'Chef',\n",
       " 'Chef',\n",
       " 'Butcher',\n",
       " 'Chef',\n",
       " 'Unknown',\n",
       " 'Marinade',\n",
       " 'Woman',\n",
       " 'Man',\n",
       " 'Sauce',\n",
       " 'Person',\n",
       " 'A cook pours sauce on slices of meat.',\n",
       " 'Raw chicken',\n",
       " 'Bag',\n",
       " 'Plastic bag',\n",
       " \"The video doesn't show what the marinade is made from.\",\n",
       " 'Chicken',\n",
       " 'Tray',\n",
       " 'Spices',\n",
       " 'Sauce',\n",
       " 'Sauce',\n",
       " 'Seasoning',\n",
       " 'Seasoning',\n",
       " 'Chicken',\n",
       " 'Ziplock']"
      ]
     },
     "execution_count": 13,
     "metadata": {},
     "output_type": "execute_result"
    },
    {
     "name": "stdout",
     "output_type": "stream",
     "text": [
      "The history saving thread hit an unexpected error (OperationalError('attempt to write a readonly database')).History will not be written to the database.\n"
     ]
    }
   ],
   "source": [
    "y_pred[:30]"
   ]
  },
  {
   "cell_type": "code",
   "execution_count": 14,
   "id": "1854c805-0594-4bec-bc09-3598e7ad5941",
   "metadata": {},
   "outputs": [
    {
     "data": {
      "text/plain": [
       "['Someone',\n",
       " 'Man',\n",
       " 'Person',\n",
       " 'Man',\n",
       " 'Man',\n",
       " 'Man',\n",
       " 'Man',\n",
       " 'Cook',\n",
       " 'Man',\n",
       " 'Person',\n",
       " 'Person',\n",
       " 'Seasoning',\n",
       " 'Man',\n",
       " 'Man',\n",
       " 'Sauce',\n",
       " 'Man',\n",
       " 'Marinade',\n",
       " 'Chicken',\n",
       " 'Bag',\n",
       " 'Bag',\n",
       " 'Bowl',\n",
       " 'Chicken',\n",
       " 'Bag',\n",
       " 'Marinade',\n",
       " 'Sauce',\n",
       " 'Marinade',\n",
       " 'Marinade',\n",
       " 'Sauce',\n",
       " 'Meat',\n",
       " 'Bag']"
      ]
     },
     "execution_count": 14,
     "metadata": {},
     "output_type": "execute_result"
    }
   ],
   "source": [
    "y_real[:30]"
   ]
  },
  {
   "cell_type": "code",
   "execution_count": 15,
   "id": "05463109-a774-41e2-bd6d-d408ed80a88c",
   "metadata": {},
   "outputs": [
    {
     "name": "stdout",
     "output_type": "stream",
     "text": [
      "VideoLAVIT_MSVDQA, accuracy is: 0.27030397505845677\n"
     ]
    }
   ],
   "source": [
    "result = [1 if i == j else 0 for i, j in zip(y_real, y_pred)]\n",
    "\n",
    "print(\"VideoLAVIT_MSVDQA, accuracy is: \" + str(sum(result) / len(result)))"
   ]
  },
  {
   "cell_type": "markdown",
   "id": "1f314cd9-f71f-480a-b451-40c0feebbf3a",
   "metadata": {},
   "source": [
    "## Evaluation by Gpt-3"
   ]
  },
  {
   "cell_type": "code",
   "execution_count": null,
   "id": "4b510d34-5eac-47e1-b569-0fc201831775",
   "metadata": {},
   "outputs": [],
   "source": [
    "import openai\n",
    "\n",
    "# Set your OpenAI API key\n",
    "openai.api_key = \"YOUR_API_KEY\"\n",
    "\n",
    "# Define the test cases\n",
    "test_cases = [\n",
    "    {\"input\": \"What is the capital of France?\", \"expected_output\": \"Paris\"},\n",
    "    {\"input\": \"What is 2 + 2?\", \"expected_output\": \"4\"},\n",
    "    {\"input\": \"Explain photosynthesis briefly.\", \"expected_output\": \"Photosynthesis is the process by which plants convert sunlight into energy.\"},\n",
    "]\n",
    "\n",
    "# Validate the model\n",
    "for test in test_cases:\n",
    "    response = openai.ChatCompletion.create(\n",
    "        model=\"gpt-4\",\n",
    "        messages=[{\"role\": \"user\", \"content\": test[\"input\"]}]\n",
    "    )\n",
    "    output = response['choices'][0]['message']['content'].strip()\n",
    "    print(f\"Input: {test['input']}\")\n",
    "    print(f\"Expected: {test['expected_output']}\")\n",
    "    print(f\"Output: {output}\")\n",
    "    print(f\"Match: {output == test['expected_output']}\")\n",
    "    print(\"-\" * 30)"
   ]
  }
 ],
 "metadata": {
  "kernelspec": {
   "display_name": "Python [conda env:.mlspace-video_vika]",
   "language": "python",
   "name": "conda-env-.mlspace-video_vika-py"
  },
  "language_info": {
   "codemirror_mode": {
    "name": "ipython",
    "version": 3
   },
   "file_extension": ".py",
   "mimetype": "text/x-python",
   "name": "python",
   "nbconvert_exporter": "python",
   "pygments_lexer": "ipython3",
   "version": "3.10.15"
  }
 },
 "nbformat": 4,
 "nbformat_minor": 5
}
